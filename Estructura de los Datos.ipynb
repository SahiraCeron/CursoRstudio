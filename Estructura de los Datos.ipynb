{
 "cells": [
  {
   "cell_type": "markdown",
   "id": "smoking-memory",
   "metadata": {},
   "source": [
    "# Estructuras de datos\n",
    "\n",
    "Las estructuras de datos son objetos que contienen datos. Cuando trabajamos con R, lo que estamos haciendo es manipular estas estructuras. Las estructuras tienen diferentes caracteristicas, como su número de dimensiones y si son homogeneas o heterogeneas.\n",
    "\n",
    "La siguiente tabla muestra las principales estructuras.\n",
    "\n",
    "Dimensiones|Homogeneas|Heterogeneas\n",
    "---------|----------|------------\n",
    "1| Vector |Lista\n",
    "2| Matriz| Data frame\n",
    "n|Array |"
   ]
  },
  {
   "cell_type": "markdown",
   "id": "proved-proceeding",
   "metadata": {},
   "source": [
    "A continuación veremos cada una de estas estructuras."
   ]
  },
  {
   "cell_type": "markdown",
   "id": "vocal-strip",
   "metadata": {},
   "source": [
    "## Vectores\n",
    "Es la estructura más sencilla en R. Un vector es una colección de uno o más datos del mismo tipo.\n",
    "\n",
    "Todos los vectores tienes tre propiedades:\n",
    "\n",
    "* ***Tipo.*** Un vector tiene el mismo tipo que los datos que contiene. Por ejemplo si tenemos datos de tipo character entonces el tipo del vector es character.\n",
    "\n",
    "* ***Largo.*** Es el número de elementos que contiene el vector.\n",
    "\n",
    "* ***Atributos.*** Describen caracteristicas de los datos que contienen.\n",
    "\n",
    "Para crear vectores usamos la función ``c()`` (combinar) en la cual ponemos como argumento los elementos que deseamos combinar en un vector, separados por comas.\n",
    "\n",
    "A continuación algunos ejemplos:"
   ]
  },
  {
   "cell_type": "code",
   "execution_count": 1,
   "id": "modern-deputy",
   "metadata": {},
   "outputs": [
    {
     "data": {
      "text/html": [
       "<ol class=list-inline>\n",
       "\t<li>2</li>\n",
       "\t<li>4</li>\n",
       "\t<li>5</li>\n",
       "\t<li>10</li>\n",
       "\t<li>100</li>\n",
       "</ol>\n"
      ],
      "text/latex": [
       "\\begin{enumerate*}\n",
       "\\item 2\n",
       "\\item 4\n",
       "\\item 5\n",
       "\\item 10\n",
       "\\item 100\n",
       "\\end{enumerate*}\n"
      ],
      "text/markdown": [
       "1. 2\n",
       "2. 4\n",
       "3. 5\n",
       "4. 10\n",
       "5. 100\n",
       "\n",
       "\n"
      ],
      "text/plain": [
       "[1]   2   4   5  10 100"
      ]
     },
     "metadata": {},
     "output_type": "display_data"
    }
   ],
   "source": [
    "# Vector numérico\n",
    "c(2,4,5,10,100)"
   ]
  },
  {
   "cell_type": "code",
   "execution_count": 2,
   "id": "separate-spoke",
   "metadata": {},
   "outputs": [
    {
     "data": {
      "text/html": [
       "<ol class=list-inline>\n",
       "\t<li>'perro'</li>\n",
       "\t<li>'gato'</li>\n",
       "\t<li>'cuyo'</li>\n",
       "</ol>\n"
      ],
      "text/latex": [
       "\\begin{enumerate*}\n",
       "\\item 'perro'\n",
       "\\item 'gato'\n",
       "\\item 'cuyo'\n",
       "\\end{enumerate*}\n"
      ],
      "text/markdown": [
       "1. 'perro'\n",
       "2. 'gato'\n",
       "3. 'cuyo'\n",
       "\n",
       "\n"
      ],
      "text/plain": [
       "[1] \"perro\" \"gato\"  \"cuyo\" "
      ]
     },
     "metadata": {},
     "output_type": "display_data"
    }
   ],
   "source": [
    "#Vector de cadena de texto\n",
    "c(\"perro\",\"gato\",\"cuyo\")"
   ]
  },
  {
   "cell_type": "code",
   "execution_count": 3,
   "id": "lesser-somalia",
   "metadata": {},
   "outputs": [
    {
     "data": {
      "text/html": [
       "<ol class=list-inline>\n",
       "\t<li>TRUE</li>\n",
       "\t<li>FALSE</li>\n",
       "\t<li>FALSE</li>\n",
       "\t<li>TRUE</li>\n",
       "</ol>\n"
      ],
      "text/latex": [
       "\\begin{enumerate*}\n",
       "\\item TRUE\n",
       "\\item FALSE\n",
       "\\item FALSE\n",
       "\\item TRUE\n",
       "\\end{enumerate*}\n"
      ],
      "text/markdown": [
       "1. TRUE\n",
       "2. FALSE\n",
       "3. FALSE\n",
       "4. TRUE\n",
       "\n",
       "\n"
      ],
      "text/plain": [
       "[1]  TRUE FALSE FALSE  TRUE"
      ]
     },
     "metadata": {},
     "output_type": "display_data"
    }
   ],
   "source": [
    "#Vector lógico\n",
    "c(TRUE,F,FALSE,T)"
   ]
  },
  {
   "cell_type": "markdown",
   "id": "consistent-congress",
   "metadata": {},
   "source": [
    "Para agregar un elemento a un vector ya existente, podemos hacerlo combinando el vector original con los elementos nuevos y asignando el resultado a nuestro vector original."
   ]
  },
  {
   "cell_type": "code",
   "execution_count": 4,
   "id": "regulation-compensation",
   "metadata": {},
   "outputs": [],
   "source": [
    "PrimerVector <- c(1,2,3)"
   ]
  },
  {
   "cell_type": "code",
   "execution_count": 5,
   "id": "boring-software",
   "metadata": {},
   "outputs": [
    {
     "data": {
      "text/html": [
       "<ol class=list-inline>\n",
       "\t<li>1</li>\n",
       "\t<li>2</li>\n",
       "\t<li>3</li>\n",
       "</ol>\n"
      ],
      "text/latex": [
       "\\begin{enumerate*}\n",
       "\\item 1\n",
       "\\item 2\n",
       "\\item 3\n",
       "\\end{enumerate*}\n"
      ],
      "text/markdown": [
       "1. 1\n",
       "2. 2\n",
       "3. 3\n",
       "\n",
       "\n"
      ],
      "text/plain": [
       "[1] 1 2 3"
      ]
     },
     "metadata": {},
     "output_type": "display_data"
    }
   ],
   "source": [
    "PrimerVector"
   ]
  },
  {
   "cell_type": "code",
   "execution_count": 6,
   "id": "processed-percentage",
   "metadata": {},
   "outputs": [],
   "source": [
    "PrimerVector <-c(1,2,PrimerVector,5,20,4)"
   ]
  },
  {
   "cell_type": "code",
   "execution_count": 7,
   "id": "western-citizen",
   "metadata": {},
   "outputs": [
    {
     "data": {
      "text/html": [
       "<ol class=list-inline>\n",
       "\t<li>1</li>\n",
       "\t<li>2</li>\n",
       "\t<li>1</li>\n",
       "\t<li>2</li>\n",
       "\t<li>3</li>\n",
       "\t<li>5</li>\n",
       "\t<li>20</li>\n",
       "\t<li>4</li>\n",
       "</ol>\n"
      ],
      "text/latex": [
       "\\begin{enumerate*}\n",
       "\\item 1\n",
       "\\item 2\n",
       "\\item 1\n",
       "\\item 2\n",
       "\\item 3\n",
       "\\item 5\n",
       "\\item 20\n",
       "\\item 4\n",
       "\\end{enumerate*}\n"
      ],
      "text/markdown": [
       "1. 1\n",
       "2. 2\n",
       "3. 1\n",
       "4. 2\n",
       "5. 3\n",
       "6. 5\n",
       "7. 20\n",
       "8. 4\n",
       "\n",
       "\n"
      ],
      "text/plain": [
       "[1]  1  2  1  2  3  5 20  4"
      ]
     },
     "metadata": {},
     "output_type": "display_data"
    }
   ],
   "source": [
    "PrimerVector"
   ]
  },
  {
   "cell_type": "markdown",
   "id": "universal-abuse",
   "metadata": {},
   "source": [
    "También se pueden combinar vectores para crear un nuevo vector."
   ]
  },
  {
   "cell_type": "code",
   "execution_count": 8,
   "id": "agricultural-fourth",
   "metadata": {},
   "outputs": [],
   "source": [
    "SegundoVector <- c(10, 8, 6, 7)"
   ]
  },
  {
   "cell_type": "code",
   "execution_count": 9,
   "id": "amino-projection",
   "metadata": {},
   "outputs": [
    {
     "data": {
      "text/html": [
       "<ol class=list-inline>\n",
       "\t<li>1</li>\n",
       "\t<li>2</li>\n",
       "\t<li>1</li>\n",
       "\t<li>2</li>\n",
       "\t<li>3</li>\n",
       "\t<li>5</li>\n",
       "\t<li>20</li>\n",
       "\t<li>4</li>\n",
       "\t<li>10</li>\n",
       "\t<li>8</li>\n",
       "\t<li>6</li>\n",
       "\t<li>7</li>\n",
       "</ol>\n"
      ],
      "text/latex": [
       "\\begin{enumerate*}\n",
       "\\item 1\n",
       "\\item 2\n",
       "\\item 1\n",
       "\\item 2\n",
       "\\item 3\n",
       "\\item 5\n",
       "\\item 20\n",
       "\\item 4\n",
       "\\item 10\n",
       "\\item 8\n",
       "\\item 6\n",
       "\\item 7\n",
       "\\end{enumerate*}\n"
      ],
      "text/markdown": [
       "1. 1\n",
       "2. 2\n",
       "3. 1\n",
       "4. 2\n",
       "5. 3\n",
       "6. 5\n",
       "7. 20\n",
       "8. 4\n",
       "9. 10\n",
       "10. 8\n",
       "11. 6\n",
       "12. 7\n",
       "\n",
       "\n"
      ],
      "text/plain": [
       " [1]  1  2  1  2  3  5 20  4 10  8  6  7"
      ]
     },
     "metadata": {},
     "output_type": "display_data"
    }
   ],
   "source": [
    "VectorCombinado <- c(PrimerVector, SegundoVector)\n",
    "\n",
    "VectorCombinado"
   ]
  },
  {
   "cell_type": "markdown",
   "id": "adult-wilderness",
   "metadata": {},
   "source": [
    "Cuando intentamos combinar datos de diferentes tipos en un mismo vector, R realiza una coerción automática. El vector resultante será del tipo más flexible entre los datos que contenga. A continuación algunos ejemplos:"
   ]
  },
  {
   "cell_type": "code",
   "execution_count": 10,
   "id": "included-functionality",
   "metadata": {},
   "outputs": [
    {
     "data": {
      "text/html": [
       "'numeric'"
      ],
      "text/latex": [
       "'numeric'"
      ],
      "text/markdown": [
       "'numeric'"
      ],
      "text/plain": [
       "[1] \"numeric\""
      ]
     },
     "metadata": {},
     "output_type": "display_data"
    }
   ],
   "source": [
    "VecNum <- c(11,7,9)\n",
    "class(VecNum)"
   ]
  },
  {
   "cell_type": "code",
   "execution_count": 11,
   "id": "innovative-james",
   "metadata": {},
   "outputs": [
    {
     "data": {
      "text/html": [
       "'character'"
      ],
      "text/latex": [
       "'character'"
      ],
      "text/markdown": [
       "'character'"
      ],
      "text/plain": [
       "[1] \"character\""
      ]
     },
     "metadata": {},
     "output_type": "display_data"
    }
   ],
   "source": [
    "#Agregamos un dato de texto\n",
    "\n",
    "VecNuevo <- c(VecNum, \"hola\")\n",
    "class(VecNuevo)"
   ]
  },
  {
   "cell_type": "code",
   "execution_count": 12,
   "id": "massive-shield",
   "metadata": {},
   "outputs": [
    {
     "data": {
      "text/html": [
       "<ol class=list-inline>\n",
       "\t<li>'11'</li>\n",
       "\t<li>'7'</li>\n",
       "\t<li>'9'</li>\n",
       "\t<li>'hola'</li>\n",
       "</ol>\n"
      ],
      "text/latex": [
       "\\begin{enumerate*}\n",
       "\\item '11'\n",
       "\\item '7'\n",
       "\\item '9'\n",
       "\\item 'hola'\n",
       "\\end{enumerate*}\n"
      ],
      "text/markdown": [
       "1. '11'\n",
       "2. '7'\n",
       "3. '9'\n",
       "4. 'hola'\n",
       "\n",
       "\n"
      ],
      "text/plain": [
       "[1] \"11\"   \"7\"    \"9\"    \"hola\""
      ]
     },
     "metadata": {},
     "output_type": "display_data"
    }
   ],
   "source": [
    "VecNuevo"
   ]
  },
  {
   "cell_type": "code",
   "execution_count": 13,
   "id": "sacred-brook",
   "metadata": {},
   "outputs": [
    {
     "data": {
      "text/html": [
       "<ol class=list-inline>\n",
       "\t<li>'11'</li>\n",
       "\t<li>'7'</li>\n",
       "\t<li>'9'</li>\n",
       "\t<li>'hola'</li>\n",
       "</ol>\n"
      ],
      "text/latex": [
       "\\begin{enumerate*}\n",
       "\\item '11'\n",
       "\\item '7'\n",
       "\\item '9'\n",
       "\\item 'hola'\n",
       "\\end{enumerate*}\n"
      ],
      "text/markdown": [
       "1. '11'\n",
       "2. '7'\n",
       "3. '9'\n",
       "4. 'hola'\n",
       "\n",
       "\n"
      ],
      "text/plain": [
       "[1] \"11\"   \"7\"    \"9\"    \"hola\""
      ]
     },
     "metadata": {},
     "output_type": "display_data"
    }
   ],
   "source": [
    "VecNuevo"
   ]
  },
  {
   "cell_type": "markdown",
   "id": "dominican-township",
   "metadata": {},
   "source": [
    "Como las cadenas de texto son el tipo más flexible en este vector entonces el vector será tipo character (siempre que creamos un vector que incluye texto el resultado sera un vector con este tipo)."
   ]
  },
  {
   "cell_type": "code",
   "execution_count": 14,
   "id": "serial-might",
   "metadata": {},
   "outputs": [],
   "source": [
    "VecMezclado <- c(1,2, TRUE, \"Sahira\", 0.5)"
   ]
  },
  {
   "cell_type": "code",
   "execution_count": 15,
   "id": "musical-brazilian",
   "metadata": {},
   "outputs": [
    {
     "data": {
      "text/html": [
       "'character'"
      ],
      "text/latex": [
       "'character'"
      ],
      "text/markdown": [
       "'character'"
      ],
      "text/plain": [
       "[1] \"character\""
      ]
     },
     "metadata": {},
     "output_type": "display_data"
    },
    {
     "data": {
      "text/html": [
       "<ol class=list-inline>\n",
       "\t<li>'1'</li>\n",
       "\t<li>'2'</li>\n",
       "\t<li>'TRUE'</li>\n",
       "\t<li>'Sahira'</li>\n",
       "\t<li>'0.5'</li>\n",
       "</ol>\n"
      ],
      "text/latex": [
       "\\begin{enumerate*}\n",
       "\\item '1'\n",
       "\\item '2'\n",
       "\\item 'TRUE'\n",
       "\\item 'Sahira'\n",
       "\\item '0.5'\n",
       "\\end{enumerate*}\n"
      ],
      "text/markdown": [
       "1. '1'\n",
       "2. '2'\n",
       "3. 'TRUE'\n",
       "4. 'Sahira'\n",
       "5. '0.5'\n",
       "\n",
       "\n"
      ],
      "text/plain": [
       "[1] \"1\"      \"2\"      \"TRUE\"   \"Sahira\" \"0.5\"   "
      ]
     },
     "metadata": {},
     "output_type": "display_data"
    }
   ],
   "source": [
    "class(VecMezclado)\n",
    "VecMezclado"
   ]
  },
  {
   "cell_type": "markdown",
   "id": "lesbian-profit",
   "metadata": {},
   "source": [
    "Se pueden crear vectores de secuencias numéricas usando ``:``. De un lado escribimos el número de inicio de la secuencia y del otro el final."
   ]
  },
  {
   "cell_type": "code",
   "execution_count": 16,
   "id": "printable-bobby",
   "metadata": {},
   "outputs": [
    {
     "data": {
      "text/html": [
       "<ol class=list-inline>\n",
       "\t<li>1</li>\n",
       "\t<li>2</li>\n",
       "\t<li>3</li>\n",
       "\t<li>4</li>\n",
       "\t<li>5</li>\n",
       "\t<li>6</li>\n",
       "\t<li>7</li>\n",
       "\t<li>8</li>\n",
       "\t<li>9</li>\n",
       "\t<li>10</li>\n",
       "</ol>\n"
      ],
      "text/latex": [
       "\\begin{enumerate*}\n",
       "\\item 1\n",
       "\\item 2\n",
       "\\item 3\n",
       "\\item 4\n",
       "\\item 5\n",
       "\\item 6\n",
       "\\item 7\n",
       "\\item 8\n",
       "\\item 9\n",
       "\\item 10\n",
       "\\end{enumerate*}\n"
      ],
      "text/markdown": [
       "1. 1\n",
       "2. 2\n",
       "3. 3\n",
       "4. 4\n",
       "5. 5\n",
       "6. 6\n",
       "7. 7\n",
       "8. 8\n",
       "9. 9\n",
       "10. 10\n",
       "\n",
       "\n"
      ],
      "text/plain": [
       " [1]  1  2  3  4  5  6  7  8  9 10"
      ]
     },
     "metadata": {},
     "output_type": "display_data"
    }
   ],
   "source": [
    "1:10"
   ]
  },
  {
   "cell_type": "code",
   "execution_count": 17,
   "id": "alpha-sessions",
   "metadata": {},
   "outputs": [
    {
     "data": {
      "text/html": [
       "<ol class=list-inline>\n",
       "\t<li>10</li>\n",
       "\t<li>9</li>\n",
       "\t<li>8</li>\n",
       "\t<li>7</li>\n",
       "\t<li>6</li>\n",
       "\t<li>5</li>\n",
       "\t<li>4</li>\n",
       "\t<li>3</li>\n",
       "\t<li>2</li>\n",
       "\t<li>1</li>\n",
       "</ol>\n"
      ],
      "text/latex": [
       "\\begin{enumerate*}\n",
       "\\item 10\n",
       "\\item 9\n",
       "\\item 8\n",
       "\\item 7\n",
       "\\item 6\n",
       "\\item 5\n",
       "\\item 4\n",
       "\\item 3\n",
       "\\item 2\n",
       "\\item 1\n",
       "\\end{enumerate*}\n"
      ],
      "text/markdown": [
       "1. 10\n",
       "2. 9\n",
       "3. 8\n",
       "4. 7\n",
       "5. 6\n",
       "6. 5\n",
       "7. 4\n",
       "8. 3\n",
       "9. 2\n",
       "10. 1\n",
       "\n",
       "\n"
      ],
      "text/plain": [
       " [1] 10  9  8  7  6  5  4  3  2  1"
      ]
     },
     "metadata": {},
     "output_type": "display_data"
    }
   ],
   "source": [
    "10:1"
   ]
  },
  {
   "cell_type": "markdown",
   "id": "sophisticated-recipe",
   "metadata": {},
   "source": [
    "También se pueden hacer con numeros negativos y decimales. Si el número inicial tiene cifras decimales, estas serán respetadas al hacer los incrementos o decrementos de uno en uno. Pero, si el número final es un decimal, este será redondeado."
   ]
  },
  {
   "cell_type": "code",
   "execution_count": 18,
   "id": "human-girlfriend",
   "metadata": {},
   "outputs": [
    {
     "data": {
      "text/html": [
       "<ol class=list-inline>\n",
       "\t<li>-0.5</li>\n",
       "\t<li>0.5</li>\n",
       "\t<li>1.5</li>\n",
       "\t<li>2.5</li>\n",
       "\t<li>3.5</li>\n",
       "\t<li>4.5</li>\n",
       "</ol>\n"
      ],
      "text/latex": [
       "\\begin{enumerate*}\n",
       "\\item -0.5\n",
       "\\item 0.5\n",
       "\\item 1.5\n",
       "\\item 2.5\n",
       "\\item 3.5\n",
       "\\item 4.5\n",
       "\\end{enumerate*}\n"
      ],
      "text/markdown": [
       "1. -0.5\n",
       "2. 0.5\n",
       "3. 1.5\n",
       "4. 2.5\n",
       "5. 3.5\n",
       "6. 4.5\n",
       "\n",
       "\n"
      ],
      "text/plain": [
       "[1] -0.5  0.5  1.5  2.5  3.5  4.5"
      ]
     },
     "metadata": {},
     "output_type": "display_data"
    }
   ],
   "source": [
    "VecDecimal <- c(-0.5:5)\n",
    "VecDecimal"
   ]
  },
  {
   "cell_type": "code",
   "execution_count": 19,
   "id": "close-passage",
   "metadata": {},
   "outputs": [
    {
     "data": {
      "text/html": [
       "<ol class=list-inline>\n",
       "\t<li>1</li>\n",
       "\t<li>2</li>\n",
       "\t<li>3</li>\n",
       "\t<li>4</li>\n",
       "\t<li>5</li>\n",
       "</ol>\n"
      ],
      "text/latex": [
       "\\begin{enumerate*}\n",
       "\\item 1\n",
       "\\item 2\n",
       "\\item 3\n",
       "\\item 4\n",
       "\\item 5\n",
       "\\end{enumerate*}\n"
      ],
      "text/markdown": [
       "1. 1\n",
       "2. 2\n",
       "3. 3\n",
       "4. 4\n",
       "5. 5\n",
       "\n",
       "\n"
      ],
      "text/plain": [
       "[1] 1 2 3 4 5"
      ]
     },
     "metadata": {},
     "output_type": "display_data"
    }
   ],
   "source": [
    "VecDecimalFinal <- c(1: 5.2)\n",
    "VecDecimalFinal"
   ]
  },
  {
   "cell_type": "markdown",
   "id": "statutory-professional",
   "metadata": {},
   "source": [
    "Se pueden usar las funciones ``seq()`` y ``rep()``. Y con estas funciones si podemos decidir si avanzaran de 1 en 1 u otro número."
   ]
  },
  {
   "cell_type": "code",
   "execution_count": 20,
   "id": "vertical-dairy",
   "metadata": {},
   "outputs": [
    {
     "data": {
      "text/html": [
       "<ol class=list-inline>\n",
       "\t<li>1</li>\n",
       "\t<li>2</li>\n",
       "\t<li>3</li>\n",
       "\t<li>4</li>\n",
       "\t<li>5</li>\n",
       "</ol>\n"
      ],
      "text/latex": [
       "\\begin{enumerate*}\n",
       "\\item 1\n",
       "\\item 2\n",
       "\\item 3\n",
       "\\item 4\n",
       "\\item 5\n",
       "\\end{enumerate*}\n"
      ],
      "text/markdown": [
       "1. 1\n",
       "2. 2\n",
       "3. 3\n",
       "4. 4\n",
       "5. 5\n",
       "\n",
       "\n"
      ],
      "text/plain": [
       "[1] 1 2 3 4 5"
      ]
     },
     "metadata": {},
     "output_type": "display_data"
    }
   ],
   "source": [
    "#Si ponemos solo un numero entendera que empieza en el 1 e ira avanzando de 1 en 1\n",
    "seq(5)"
   ]
  },
  {
   "cell_type": "code",
   "execution_count": 21,
   "id": "eight-stephen",
   "metadata": {},
   "outputs": [
    {
     "data": {
      "text/html": [
       "<ol class=list-inline>\n",
       "\t<li>2</li>\n",
       "\t<li>3</li>\n",
       "\t<li>4</li>\n",
       "\t<li>5</li>\n",
       "\t<li>6</li>\n",
       "\t<li>7</li>\n",
       "\t<li>8</li>\n",
       "\t<li>9</li>\n",
       "\t<li>10</li>\n",
       "</ol>\n"
      ],
      "text/latex": [
       "\\begin{enumerate*}\n",
       "\\item 2\n",
       "\\item 3\n",
       "\\item 4\n",
       "\\item 5\n",
       "\\item 6\n",
       "\\item 7\n",
       "\\item 8\n",
       "\\item 9\n",
       "\\item 10\n",
       "\\end{enumerate*}\n"
      ],
      "text/markdown": [
       "1. 2\n",
       "2. 3\n",
       "3. 4\n",
       "4. 5\n",
       "5. 6\n",
       "6. 7\n",
       "7. 8\n",
       "8. 9\n",
       "9. 10\n",
       "\n",
       "\n"
      ],
      "text/plain": [
       "[1]  2  3  4  5  6  7  8  9 10"
      ]
     },
     "metadata": {},
     "output_type": "display_data"
    }
   ],
   "source": [
    "#En este caso empezará en 2 avanzando de 1 en 1 hasta llegar al 10\n",
    "seq(2,10)"
   ]
  },
  {
   "cell_type": "code",
   "execution_count": 22,
   "id": "conditional-settle",
   "metadata": {},
   "outputs": [
    {
     "data": {
      "text/html": [
       "<ol class=list-inline>\n",
       "\t<li>2</li>\n",
       "\t<li>4</li>\n",
       "\t<li>6</li>\n",
       "\t<li>8</li>\n",
       "\t<li>10</li>\n",
       "</ol>\n"
      ],
      "text/latex": [
       "\\begin{enumerate*}\n",
       "\\item 2\n",
       "\\item 4\n",
       "\\item 6\n",
       "\\item 8\n",
       "\\item 10\n",
       "\\end{enumerate*}\n"
      ],
      "text/markdown": [
       "1. 2\n",
       "2. 4\n",
       "3. 6\n",
       "4. 8\n",
       "5. 10\n",
       "\n",
       "\n"
      ],
      "text/plain": [
       "[1]  2  4  6  8 10"
      ]
     },
     "metadata": {},
     "output_type": "display_data"
    }
   ],
   "source": [
    "#Para indicar como avanzara se pone by=número\n",
    "seq(2,10,by=2)"
   ]
  },
  {
   "cell_type": "markdown",
   "id": "constitutional-financing",
   "metadata": {},
   "source": [
    "En la función ``rep()`` primero ponemos la serie y luego el numero de veces que se repetira"
   ]
  },
  {
   "cell_type": "code",
   "execution_count": 23,
   "id": "retained-cholesterol",
   "metadata": {},
   "outputs": [
    {
     "data": {
      "text/html": [
       "<ol class=list-inline>\n",
       "\t<li>1</li>\n",
       "\t<li>2</li>\n",
       "\t<li>3</li>\n",
       "\t<li>1</li>\n",
       "\t<li>2</li>\n",
       "\t<li>3</li>\n",
       "\t<li>1</li>\n",
       "\t<li>2</li>\n",
       "\t<li>3</li>\n",
       "</ol>\n"
      ],
      "text/latex": [
       "\\begin{enumerate*}\n",
       "\\item 1\n",
       "\\item 2\n",
       "\\item 3\n",
       "\\item 1\n",
       "\\item 2\n",
       "\\item 3\n",
       "\\item 1\n",
       "\\item 2\n",
       "\\item 3\n",
       "\\end{enumerate*}\n"
      ],
      "text/markdown": [
       "1. 1\n",
       "2. 2\n",
       "3. 3\n",
       "4. 1\n",
       "5. 2\n",
       "6. 3\n",
       "7. 1\n",
       "8. 2\n",
       "9. 3\n",
       "\n",
       "\n"
      ],
      "text/plain": [
       "[1] 1 2 3 1 2 3 1 2 3"
      ]
     },
     "metadata": {},
     "output_type": "display_data"
    }
   ],
   "source": [
    "rep(1:3,3)"
   ]
  },
  {
   "cell_type": "code",
   "execution_count": 24,
   "id": "featured-insulation",
   "metadata": {},
   "outputs": [
    {
     "data": {
      "text/html": [
       "<ol class=list-inline>\n",
       "\t<li>1</li>\n",
       "\t<li>1</li>\n",
       "\t<li>1</li>\n",
       "\t<li>2</li>\n",
       "\t<li>2</li>\n",
       "\t<li>2</li>\n",
       "\t<li>3</li>\n",
       "\t<li>3</li>\n",
       "\t<li>3</li>\n",
       "</ol>\n"
      ],
      "text/latex": [
       "\\begin{enumerate*}\n",
       "\\item 1\n",
       "\\item 1\n",
       "\\item 1\n",
       "\\item 2\n",
       "\\item 2\n",
       "\\item 2\n",
       "\\item 3\n",
       "\\item 3\n",
       "\\item 3\n",
       "\\end{enumerate*}\n"
      ],
      "text/markdown": [
       "1. 1\n",
       "2. 1\n",
       "3. 1\n",
       "4. 2\n",
       "5. 2\n",
       "6. 2\n",
       "7. 3\n",
       "8. 3\n",
       "9. 3\n",
       "\n",
       "\n"
      ],
      "text/plain": [
       "[1] 1 1 1 2 2 2 3 3 3"
      ]
     },
     "metadata": {},
     "output_type": "display_data"
    }
   ],
   "source": [
    "#Esta instrucción hace que cada número se repita 3 veces \n",
    "rep(1:3,each=3)"
   ]
  },
  {
   "cell_type": "markdown",
   "id": "severe-nowhere",
   "metadata": {},
   "source": [
    "### Vectorización de operaciones.\n",
    "\n",
    "Existen operaciones que al aplicarlas a un vector, se aplican a cada uno de sus elementos. A este proceso se le llama vectorización.\n",
    "\n",
    "Las operaciones aritméticas y relacionales pueden vectorizarse.\n",
    "\n"
   ]
  },
  {
   "cell_type": "code",
   "execution_count": 25,
   "id": "positive-clark",
   "metadata": {},
   "outputs": [
    {
     "data": {
      "text/html": [
       "<ol class=list-inline>\n",
       "\t<li>1</li>\n",
       "\t<li>2</li>\n",
       "\t<li>3</li>\n",
       "\t<li>4</li>\n",
       "\t<li>5</li>\n",
       "</ol>\n"
      ],
      "text/latex": [
       "\\begin{enumerate*}\n",
       "\\item 1\n",
       "\\item 2\n",
       "\\item 3\n",
       "\\item 4\n",
       "\\item 5\n",
       "\\end{enumerate*}\n"
      ],
      "text/markdown": [
       "1. 1\n",
       "2. 2\n",
       "3. 3\n",
       "4. 4\n",
       "5. 5\n",
       "\n",
       "\n"
      ],
      "text/plain": [
       "[1] 1 2 3 4 5"
      ]
     },
     "metadata": {},
     "output_type": "display_data"
    }
   ],
   "source": [
    "Vector1 <- c(1,2,3,4,5)\n",
    "Vector1"
   ]
  },
  {
   "cell_type": "code",
   "execution_count": 26,
   "id": "right-police",
   "metadata": {},
   "outputs": [
    {
     "data": {
      "text/html": [
       "<ol class=list-inline>\n",
       "\t<li>2</li>\n",
       "\t<li>3</li>\n",
       "\t<li>4</li>\n",
       "\t<li>5</li>\n",
       "\t<li>6</li>\n",
       "</ol>\n"
      ],
      "text/latex": [
       "\\begin{enumerate*}\n",
       "\\item 2\n",
       "\\item 3\n",
       "\\item 4\n",
       "\\item 5\n",
       "\\item 6\n",
       "\\end{enumerate*}\n"
      ],
      "text/markdown": [
       "1. 2\n",
       "2. 3\n",
       "3. 4\n",
       "4. 5\n",
       "5. 6\n",
       "\n",
       "\n"
      ],
      "text/plain": [
       "[1] 2 3 4 5 6"
      ]
     },
     "metadata": {},
     "output_type": "display_data"
    }
   ],
   "source": [
    "Vector1+1"
   ]
  },
  {
   "cell_type": "code",
   "execution_count": 27,
   "id": "tamil-contribution",
   "metadata": {},
   "outputs": [
    {
     "data": {
      "text/html": [
       "<ol class=list-inline>\n",
       "\t<li>2</li>\n",
       "\t<li>4</li>\n",
       "\t<li>6</li>\n",
       "\t<li>8</li>\n",
       "\t<li>10</li>\n",
       "</ol>\n"
      ],
      "text/latex": [
       "\\begin{enumerate*}\n",
       "\\item 2\n",
       "\\item 4\n",
       "\\item 6\n",
       "\\item 8\n",
       "\\item 10\n",
       "\\end{enumerate*}\n"
      ],
      "text/markdown": [
       "1. 2\n",
       "2. 4\n",
       "3. 6\n",
       "4. 8\n",
       "5. 10\n",
       "\n",
       "\n"
      ],
      "text/plain": [
       "[1]  2  4  6  8 10"
      ]
     },
     "metadata": {},
     "output_type": "display_data"
    }
   ],
   "source": [
    "Vector1 *2"
   ]
  },
  {
   "cell_type": "code",
   "execution_count": 28,
   "id": "historical-spell",
   "metadata": {},
   "outputs": [
    {
     "data": {
      "text/html": [
       "<ol class=list-inline>\n",
       "\t<li>0.5</li>\n",
       "\t<li>1</li>\n",
       "\t<li>1.5</li>\n",
       "\t<li>2</li>\n",
       "\t<li>2.5</li>\n",
       "</ol>\n"
      ],
      "text/latex": [
       "\\begin{enumerate*}\n",
       "\\item 0.5\n",
       "\\item 1\n",
       "\\item 1.5\n",
       "\\item 2\n",
       "\\item 2.5\n",
       "\\end{enumerate*}\n"
      ],
      "text/markdown": [
       "1. 0.5\n",
       "2. 1\n",
       "3. 1.5\n",
       "4. 2\n",
       "5. 2.5\n",
       "\n",
       "\n"
      ],
      "text/plain": [
       "[1] 0.5 1.0 1.5 2.0 2.5"
      ]
     },
     "metadata": {},
     "output_type": "display_data"
    }
   ],
   "source": [
    "Vector1 /2"
   ]
  },
  {
   "cell_type": "markdown",
   "id": "endangered-analyst",
   "metadata": {},
   "source": [
    "Al aplicar operaciones relacionales, obtenemos un vector de ``TRUE`` y/o ``FALSE``, uno para cada elemento."
   ]
  },
  {
   "cell_type": "code",
   "execution_count": 29,
   "id": "recorded-science",
   "metadata": {},
   "outputs": [
    {
     "data": {
      "text/html": [
       "<ol class=list-inline>\n",
       "\t<li>TRUE</li>\n",
       "\t<li>TRUE</li>\n",
       "\t<li>TRUE</li>\n",
       "\t<li>TRUE</li>\n",
       "\t<li>TRUE</li>\n",
       "</ol>\n"
      ],
      "text/latex": [
       "\\begin{enumerate*}\n",
       "\\item TRUE\n",
       "\\item TRUE\n",
       "\\item TRUE\n",
       "\\item TRUE\n",
       "\\item TRUE\n",
       "\\end{enumerate*}\n"
      ],
      "text/markdown": [
       "1. TRUE\n",
       "2. TRUE\n",
       "3. TRUE\n",
       "4. TRUE\n",
       "5. TRUE\n",
       "\n",
       "\n"
      ],
      "text/plain": [
       "[1] TRUE TRUE TRUE TRUE TRUE"
      ]
     },
     "metadata": {},
     "output_type": "display_data"
    }
   ],
   "source": [
    "Vector1 > 0"
   ]
  },
  {
   "cell_type": "code",
   "execution_count": 30,
   "id": "abandoned-somerset",
   "metadata": {},
   "outputs": [
    {
     "data": {
      "text/html": [
       "<ol class=list-inline>\n",
       "\t<li>FALSE</li>\n",
       "\t<li>FALSE</li>\n",
       "\t<li>FALSE</li>\n",
       "\t<li>FALSE</li>\n",
       "\t<li>FALSE</li>\n",
       "</ol>\n"
      ],
      "text/latex": [
       "\\begin{enumerate*}\n",
       "\\item FALSE\n",
       "\\item FALSE\n",
       "\\item FALSE\n",
       "\\item FALSE\n",
       "\\item FALSE\n",
       "\\end{enumerate*}\n"
      ],
      "text/markdown": [
       "1. FALSE\n",
       "2. FALSE\n",
       "3. FALSE\n",
       "4. FALSE\n",
       "5. FALSE\n",
       "\n",
       "\n"
      ],
      "text/plain": [
       "[1] FALSE FALSE FALSE FALSE FALSE"
      ]
     },
     "metadata": {},
     "output_type": "display_data"
    }
   ],
   "source": [
    "Vector1<0"
   ]
  },
  {
   "cell_type": "code",
   "execution_count": 31,
   "id": "integrated-presence",
   "metadata": {},
   "outputs": [
    {
     "data": {
      "text/html": [
       "<ol class=list-inline>\n",
       "\t<li>TRUE</li>\n",
       "\t<li>TRUE</li>\n",
       "\t<li>FALSE</li>\n",
       "\t<li>FALSE</li>\n",
       "\t<li>FALSE</li>\n",
       "</ol>\n"
      ],
      "text/latex": [
       "\\begin{enumerate*}\n",
       "\\item TRUE\n",
       "\\item TRUE\n",
       "\\item FALSE\n",
       "\\item FALSE\n",
       "\\item FALSE\n",
       "\\end{enumerate*}\n"
      ],
      "text/markdown": [
       "1. TRUE\n",
       "2. TRUE\n",
       "3. FALSE\n",
       "4. FALSE\n",
       "5. FALSE\n",
       "\n",
       "\n"
      ],
      "text/plain": [
       "[1]  TRUE  TRUE FALSE FALSE FALSE"
      ]
     },
     "metadata": {},
     "output_type": "display_data"
    }
   ],
   "source": [
    "Vector1 < 3"
   ]
  },
  {
   "cell_type": "markdown",
   "id": "mechanical-effects",
   "metadata": {},
   "source": [
    "## Matrices y arrays\n",
    "Las matrices y arrays pueden ser descritas como vectores multidimensionales. Solo pueden contener datos de un sólo tipo y tienen más de 1 dimensión.\n",
    "\n",
    "Las matrices son un caso especial de un array, que se distingue por tener especificamente dos dimensiones, un \"largo\" y un \"alto\". Las matrices son una estructura con forma rectangular con filas y columnas.\n",
    "\n",
    "El uso de arrays no es muy común en R, pueden ser cubos, hipercubos y otras formas. Como los arrays tienen la restricción de que todos su datos sean del mismo tipo, sin importar en cuántas dimensiones se encuentren, esto limita sus usos prácticos.\n",
    "\n",
    "### Creación de matrices.\n",
    "\n",
    "Se usa la función ``matrix()`` para crear matrices, con los argumentos ``nrow`` y ``ncol`` especificamos el número de filas y columnas que tendrá nuestra matriz.\n"
   ]
  },
  {
   "cell_type": "code",
   "execution_count": 32,
   "id": "eight-visitor",
   "metadata": {},
   "outputs": [
    {
     "data": {
      "text/html": [
       "<table>\n",
       "<tbody>\n",
       "\t<tr><td> 1</td></tr>\n",
       "\t<tr><td> 2</td></tr>\n",
       "\t<tr><td> 3</td></tr>\n",
       "\t<tr><td> 4</td></tr>\n",
       "\t<tr><td> 5</td></tr>\n",
       "\t<tr><td> 6</td></tr>\n",
       "\t<tr><td> 7</td></tr>\n",
       "\t<tr><td> 8</td></tr>\n",
       "\t<tr><td> 9</td></tr>\n",
       "\t<tr><td>10</td></tr>\n",
       "</tbody>\n",
       "</table>\n"
      ],
      "text/latex": [
       "\\begin{tabular}{l}\n",
       "\t  1\\\\\n",
       "\t  2\\\\\n",
       "\t  3\\\\\n",
       "\t  4\\\\\n",
       "\t  5\\\\\n",
       "\t  6\\\\\n",
       "\t  7\\\\\n",
       "\t  8\\\\\n",
       "\t  9\\\\\n",
       "\t 10\\\\\n",
       "\\end{tabular}\n"
      ],
      "text/markdown": [
       "\n",
       "|  1 |\n",
       "|  2 |\n",
       "|  3 |\n",
       "|  4 |\n",
       "|  5 |\n",
       "|  6 |\n",
       "|  7 |\n",
       "|  8 |\n",
       "|  9 |\n",
       "| 10 |\n",
       "\n"
      ],
      "text/plain": [
       "      [,1]\n",
       " [1,]  1  \n",
       " [2,]  2  \n",
       " [3,]  3  \n",
       " [4,]  4  \n",
       " [5,]  5  \n",
       " [6,]  6  \n",
       " [7,]  7  \n",
       " [8,]  8  \n",
       " [9,]  9  \n",
       "[10,] 10  "
      ]
     },
     "metadata": {},
     "output_type": "display_data"
    }
   ],
   "source": [
    "#Cuando no especificamos nrow y ncol, solo se crea una columna \n",
    "matrix(1:10)"
   ]
  },
  {
   "cell_type": "code",
   "execution_count": 33,
   "id": "announced-uzbekistan",
   "metadata": {},
   "outputs": [
    {
     "data": {
      "text/html": [
       "<table>\n",
       "<tbody>\n",
       "\t<tr><td>1 </td><td>3 </td><td>5 </td><td>7 </td><td> 9</td></tr>\n",
       "\t<tr><td>2 </td><td>4 </td><td>6 </td><td>8 </td><td>10</td></tr>\n",
       "</tbody>\n",
       "</table>\n"
      ],
      "text/latex": [
       "\\begin{tabular}{lllll}\n",
       "\t 1  & 3  & 5  & 7  &  9\\\\\n",
       "\t 2  & 4  & 6  & 8  & 10\\\\\n",
       "\\end{tabular}\n"
      ],
      "text/markdown": [
       "\n",
       "| 1  | 3  | 5  | 7  |  9 |\n",
       "| 2  | 4  | 6  | 8  | 10 |\n",
       "\n"
      ],
      "text/plain": [
       "     [,1] [,2] [,3] [,4] [,5]\n",
       "[1,] 1    3    5    7     9  \n",
       "[2,] 2    4    6    8    10  "
      ]
     },
     "metadata": {},
     "output_type": "display_data"
    }
   ],
   "source": [
    "matrix(1:10, nrow=2, ncol= 5)"
   ]
  },
  {
   "cell_type": "markdown",
   "id": "modern-husband",
   "metadata": {},
   "source": [
    "Los datos serán acomodados en orden, de arriba a abajo y de izquierda a derecha, hasta formar un rectangulo.\n",
    "Cuando intentamos acomodar un número diferente de elementos y celdas, ocurren dos cosas diferentes. Si el número de elementos es mayor al número de celdas, se acomodan todos los datos que sean posibles y los demás se omiten. \n"
   ]
  },
  {
   "cell_type": "code",
   "execution_count": 34,
   "id": "infinite-impossible",
   "metadata": {},
   "outputs": [
    {
     "name": "stderr",
     "output_type": "stream",
     "text": [
      "Warning message in matrix(1:10, nrow = 2, ncol = 3):\n",
      "\"la longitud de los datos [10] no es un submúltiplo o múltiplo del número de columnas [3] en la matriz\""
     ]
    },
    {
     "data": {
      "text/html": [
       "<table>\n",
       "<tbody>\n",
       "\t<tr><td>1</td><td>3</td><td>5</td></tr>\n",
       "\t<tr><td>2</td><td>4</td><td>6</td></tr>\n",
       "</tbody>\n",
       "</table>\n"
      ],
      "text/latex": [
       "\\begin{tabular}{lll}\n",
       "\t 1 & 3 & 5\\\\\n",
       "\t 2 & 4 & 6\\\\\n",
       "\\end{tabular}\n"
      ],
      "text/markdown": [
       "\n",
       "| 1 | 3 | 5 |\n",
       "| 2 | 4 | 6 |\n",
       "\n"
      ],
      "text/plain": [
       "     [,1] [,2] [,3]\n",
       "[1,] 1    3    5   \n",
       "[2,] 2    4    6   "
      ]
     },
     "metadata": {},
     "output_type": "display_data"
    }
   ],
   "source": [
    "matrix(1:10, nrow=2, ncol=3)"
   ]
  },
  {
   "cell_type": "markdown",
   "id": "genuine-strategy",
   "metadata": {},
   "source": [
    "Por el contrario si el número de celdas es mayor que el número de elentos estos se reciclaran y aparecera un advertencia."
   ]
  },
  {
   "cell_type": "code",
   "execution_count": 35,
   "id": "specific-cooperative",
   "metadata": {},
   "outputs": [
    {
     "name": "stderr",
     "output_type": "stream",
     "text": [
      "Warning message in matrix(1:10, nrow = 5, ncol = 3):\n",
      "\"la longitud de los datos [10] no es un submúltiplo o múltiplo del número de columnas [3] en la matriz\""
     ]
    },
    {
     "data": {
      "text/html": [
       "<table>\n",
       "<tbody>\n",
       "\t<tr><td>1 </td><td> 6</td><td>1 </td></tr>\n",
       "\t<tr><td>2 </td><td> 7</td><td>2 </td></tr>\n",
       "\t<tr><td>3 </td><td> 8</td><td>3 </td></tr>\n",
       "\t<tr><td>4 </td><td> 9</td><td>4 </td></tr>\n",
       "\t<tr><td>5 </td><td>10</td><td>5 </td></tr>\n",
       "</tbody>\n",
       "</table>\n"
      ],
      "text/latex": [
       "\\begin{tabular}{lll}\n",
       "\t 1  &  6 & 1 \\\\\n",
       "\t 2  &  7 & 2 \\\\\n",
       "\t 3  &  8 & 3 \\\\\n",
       "\t 4  &  9 & 4 \\\\\n",
       "\t 5  & 10 & 5 \\\\\n",
       "\\end{tabular}\n"
      ],
      "text/markdown": [
       "\n",
       "| 1  |  6 | 1  |\n",
       "| 2  |  7 | 2  |\n",
       "| 3  |  8 | 3  |\n",
       "| 4  |  9 | 4  |\n",
       "| 5  | 10 | 5  |\n",
       "\n"
      ],
      "text/plain": [
       "     [,1] [,2] [,3]\n",
       "[1,] 1     6   1   \n",
       "[2,] 2     7   2   \n",
       "[3,] 3     8   3   \n",
       "[4,] 4     9   4   \n",
       "[5,] 5    10   5   "
      ]
     },
     "metadata": {},
     "output_type": "display_data"
    }
   ],
   "source": [
    "matrix(1:10, nrow=5, ncol=3)"
   ]
  },
  {
   "cell_type": "markdown",
   "id": "external-spank",
   "metadata": {},
   "source": [
    "Otra forma de crear matrices es a través de las funciones:\n",
    "* ``cbind()`` para unir vectores, usando cada uno como columna.\n",
    "* ``rbind()`` para unir vectores, usando cada uno como renglón.\n",
    "\n",
    "A continuación algunos ejemplos:"
   ]
  },
  {
   "cell_type": "code",
   "execution_count": 36,
   "id": "subjective-generic",
   "metadata": {},
   "outputs": [],
   "source": [
    "VecMat1 <- c(1,2,3,4)\n",
    "VecMat2 <- c(5,6,7,8)\n",
    "VecMat3 <- c(9,10,11,12)"
   ]
  },
  {
   "cell_type": "code",
   "execution_count": 37,
   "id": "developed-saver",
   "metadata": {},
   "outputs": [
    {
     "data": {
      "text/html": [
       "<table>\n",
       "<thead><tr><th scope=col>VecMat1</th><th scope=col>VecMat2</th><th scope=col>VecMat3</th></tr></thead>\n",
       "<tbody>\n",
       "\t<tr><td>1 </td><td>5 </td><td> 9</td></tr>\n",
       "\t<tr><td>2 </td><td>6 </td><td>10</td></tr>\n",
       "\t<tr><td>3 </td><td>7 </td><td>11</td></tr>\n",
       "\t<tr><td>4 </td><td>8 </td><td>12</td></tr>\n",
       "</tbody>\n",
       "</table>\n"
      ],
      "text/latex": [
       "\\begin{tabular}{lll}\n",
       " VecMat1 & VecMat2 & VecMat3\\\\\n",
       "\\hline\n",
       "\t 1  & 5  &  9\\\\\n",
       "\t 2  & 6  & 10\\\\\n",
       "\t 3  & 7  & 11\\\\\n",
       "\t 4  & 8  & 12\\\\\n",
       "\\end{tabular}\n"
      ],
      "text/markdown": [
       "\n",
       "| VecMat1 | VecMat2 | VecMat3 |\n",
       "|---|---|---|\n",
       "| 1  | 5  |  9 |\n",
       "| 2  | 6  | 10 |\n",
       "| 3  | 7  | 11 |\n",
       "| 4  | 8  | 12 |\n",
       "\n"
      ],
      "text/plain": [
       "     VecMat1 VecMat2 VecMat3\n",
       "[1,] 1       5        9     \n",
       "[2,] 2       6       10     \n",
       "[3,] 3       7       11     \n",
       "[4,] 4       8       12     "
      ]
     },
     "metadata": {},
     "output_type": "display_data"
    },
    {
     "data": {
      "text/html": [
       "'matrix'"
      ],
      "text/latex": [
       "'matrix'"
      ],
      "text/markdown": [
       "'matrix'"
      ],
      "text/plain": [
       "[1] \"matrix\""
      ]
     },
     "metadata": {},
     "output_type": "display_data"
    }
   ],
   "source": [
    "Mat1 <-cbind(VecMat1, VecMat2, VecMat3)\n",
    "Mat1\n",
    "class(Mat1)"
   ]
  },
  {
   "cell_type": "code",
   "execution_count": 38,
   "id": "congressional-extent",
   "metadata": {},
   "outputs": [
    {
     "data": {
      "text/html": [
       "<table>\n",
       "<tbody>\n",
       "\t<tr><th scope=row>VecMat1</th><td>1 </td><td> 2</td><td> 3</td><td> 4</td></tr>\n",
       "\t<tr><th scope=row>VecMat2</th><td>5 </td><td> 6</td><td> 7</td><td> 8</td></tr>\n",
       "\t<tr><th scope=row>VecMat3</th><td>9 </td><td>10</td><td>11</td><td>12</td></tr>\n",
       "</tbody>\n",
       "</table>\n"
      ],
      "text/latex": [
       "\\begin{tabular}{r|llll}\n",
       "\tVecMat1 & 1  &  2 &  3 &  4\\\\\n",
       "\tVecMat2 & 5  &  6 &  7 &  8\\\\\n",
       "\tVecMat3 & 9  & 10 & 11 & 12\\\\\n",
       "\\end{tabular}\n"
      ],
      "text/markdown": [
       "\n",
       "| VecMat1 | 1  |  2 |  3 |  4 |\n",
       "| VecMat2 | 5  |  6 |  7 |  8 |\n",
       "| VecMat3 | 9  | 10 | 11 | 12 |\n",
       "\n"
      ],
      "text/plain": [
       "        [,1] [,2] [,3] [,4]\n",
       "VecMat1 1     2    3    4  \n",
       "VecMat2 5     6    7    8  \n",
       "VecMat3 9    10   11   12  "
      ]
     },
     "metadata": {},
     "output_type": "display_data"
    }
   ],
   "source": [
    "Mat2 <- rbind(VecMat1, VecMat2, VecMat3)\n",
    "Mat2"
   ]
  },
  {
   "cell_type": "markdown",
   "id": "surface-ghost",
   "metadata": {},
   "source": [
    "Estas funciones también nos sirven para agregar una fila o columna a una matriz que ya tenemos creada."
   ]
  },
  {
   "cell_type": "code",
   "execution_count": 39,
   "id": "straight-freight",
   "metadata": {},
   "outputs": [
    {
     "data": {
      "text/html": [
       "<table>\n",
       "<thead><tr><th></th><th scope=col>VecMat1</th><th scope=col>VecMat2</th><th scope=col>VecMat3</th></tr></thead>\n",
       "<tbody>\n",
       "\t<tr><th scope=row></th><td>1 </td><td>5 </td><td> 9</td></tr>\n",
       "\t<tr><th scope=row></th><td>2 </td><td>6 </td><td>10</td></tr>\n",
       "\t<tr><th scope=row></th><td>3 </td><td>7 </td><td>11</td></tr>\n",
       "\t<tr><th scope=row></th><td>4 </td><td>8 </td><td>12</td></tr>\n",
       "\t<tr><th scope=row>Fila5</th><td>2 </td><td>4 </td><td> 6</td></tr>\n",
       "</tbody>\n",
       "</table>\n"
      ],
      "text/latex": [
       "\\begin{tabular}{r|lll}\n",
       "  & VecMat1 & VecMat2 & VecMat3\\\\\n",
       "\\hline\n",
       "\t & 1  & 5  &  9\\\\\n",
       "\t & 2  & 6  & 10\\\\\n",
       "\t & 3  & 7  & 11\\\\\n",
       "\t & 4  & 8  & 12\\\\\n",
       "\tFila5 & 2  & 4  &  6\\\\\n",
       "\\end{tabular}\n"
      ],
      "text/markdown": [
       "\n",
       "| <!--/--> | VecMat1 | VecMat2 | VecMat3 |\n",
       "|---|---|---|---|\n",
       "|  | 1  | 5  |  9 |\n",
       "|  | 2  | 6  | 10 |\n",
       "|  | 3  | 7  | 11 |\n",
       "|  | 4  | 8  | 12 |\n",
       "| Fila5 | 2  | 4  |  6 |\n",
       "\n"
      ],
      "text/plain": [
       "      VecMat1 VecMat2 VecMat3\n",
       "      1       5        9     \n",
       "      2       6       10     \n",
       "      3       7       11     \n",
       "      4       8       12     \n",
       "Fila5 2       4        6     "
      ]
     },
     "metadata": {},
     "output_type": "display_data"
    }
   ],
   "source": [
    "#Para agregar una fila\n",
    "Fila5<-c(2,4,6)\n",
    "Mat1<-rbind(Mat1, Fila5)\n",
    "Mat1"
   ]
  },
  {
   "cell_type": "code",
   "execution_count": 40,
   "id": "sixth-mississippi",
   "metadata": {},
   "outputs": [
    {
     "data": {
      "text/html": [
       "<table>\n",
       "<thead><tr><th></th><th scope=col>VecMat1</th><th scope=col>VecMat2</th><th scope=col>VecMat3</th><th scope=col>VectMat4</th></tr></thead>\n",
       "<tbody>\n",
       "\t<tr><th scope=row></th><td>1 </td><td>5 </td><td> 9</td><td>4 </td></tr>\n",
       "\t<tr><th scope=row></th><td>2 </td><td>6 </td><td>10</td><td>5 </td></tr>\n",
       "\t<tr><th scope=row></th><td>3 </td><td>7 </td><td>11</td><td>6 </td></tr>\n",
       "\t<tr><th scope=row></th><td>4 </td><td>8 </td><td>12</td><td>9 </td></tr>\n",
       "\t<tr><th scope=row>Fila5</th><td>2 </td><td>4 </td><td> 6</td><td>1 </td></tr>\n",
       "</tbody>\n",
       "</table>\n"
      ],
      "text/latex": [
       "\\begin{tabular}{r|llll}\n",
       "  & VecMat1 & VecMat2 & VecMat3 & VectMat4\\\\\n",
       "\\hline\n",
       "\t & 1  & 5  &  9 & 4 \\\\\n",
       "\t & 2  & 6  & 10 & 5 \\\\\n",
       "\t & 3  & 7  & 11 & 6 \\\\\n",
       "\t & 4  & 8  & 12 & 9 \\\\\n",
       "\tFila5 & 2  & 4  &  6 & 1 \\\\\n",
       "\\end{tabular}\n"
      ],
      "text/markdown": [
       "\n",
       "| <!--/--> | VecMat1 | VecMat2 | VecMat3 | VectMat4 |\n",
       "|---|---|---|---|---|\n",
       "|  | 1  | 5  |  9 | 4  |\n",
       "|  | 2  | 6  | 10 | 5  |\n",
       "|  | 3  | 7  | 11 | 6  |\n",
       "|  | 4  | 8  | 12 | 9  |\n",
       "| Fila5 | 2  | 4  |  6 | 1  |\n",
       "\n"
      ],
      "text/plain": [
       "      VecMat1 VecMat2 VecMat3 VectMat4\n",
       "      1       5        9      4       \n",
       "      2       6       10      5       \n",
       "      3       7       11      6       \n",
       "      4       8       12      9       \n",
       "Fila5 2       4        6      1       "
      ]
     },
     "metadata": {},
     "output_type": "display_data"
    }
   ],
   "source": [
    "#Para agregar una columna\n",
    "VectMat4 <- c(4,5,6,9,1)\n",
    "Mat1<-cbind(Mat1,VectMat4)\n",
    "Mat1"
   ]
  },
  {
   "cell_type": "markdown",
   "id": "modular-salad",
   "metadata": {},
   "source": [
    "### Nombres de las filas y columnas\n",
    "\n",
    "Podemos hacer uso de ``rownames`` y ``colnames`` para nombrar las filas y columnas de nuestras matrices.\n"
   ]
  },
  {
   "cell_type": "code",
   "execution_count": 41,
   "id": "happy-future",
   "metadata": {},
   "outputs": [
    {
     "data": {
      "text/html": [
       "<table>\n",
       "<thead><tr><th></th><th scope=col>VecMat1</th><th scope=col>VecMat2</th><th scope=col>VecMat3</th><th scope=col>VectMat4</th></tr></thead>\n",
       "<tbody>\n",
       "\t<tr><th scope=row>Paciente1</th><td>1 </td><td>5 </td><td> 9</td><td>4 </td></tr>\n",
       "\t<tr><th scope=row>Paciente2</th><td>2 </td><td>6 </td><td>10</td><td>5 </td></tr>\n",
       "\t<tr><th scope=row>Paciente3</th><td>3 </td><td>7 </td><td>11</td><td>6 </td></tr>\n",
       "\t<tr><th scope=row>Paciente4</th><td>4 </td><td>8 </td><td>12</td><td>9 </td></tr>\n",
       "\t<tr><th scope=row>Paciente5</th><td>2 </td><td>4 </td><td> 6</td><td>1 </td></tr>\n",
       "</tbody>\n",
       "</table>\n"
      ],
      "text/latex": [
       "\\begin{tabular}{r|llll}\n",
       "  & VecMat1 & VecMat2 & VecMat3 & VectMat4\\\\\n",
       "\\hline\n",
       "\tPaciente1 & 1  & 5  &  9 & 4 \\\\\n",
       "\tPaciente2 & 2  & 6  & 10 & 5 \\\\\n",
       "\tPaciente3 & 3  & 7  & 11 & 6 \\\\\n",
       "\tPaciente4 & 4  & 8  & 12 & 9 \\\\\n",
       "\tPaciente5 & 2  & 4  &  6 & 1 \\\\\n",
       "\\end{tabular}\n"
      ],
      "text/markdown": [
       "\n",
       "| <!--/--> | VecMat1 | VecMat2 | VecMat3 | VectMat4 |\n",
       "|---|---|---|---|---|\n",
       "| Paciente1 | 1  | 5  |  9 | 4  |\n",
       "| Paciente2 | 2  | 6  | 10 | 5  |\n",
       "| Paciente3 | 3  | 7  | 11 | 6  |\n",
       "| Paciente4 | 4  | 8  | 12 | 9  |\n",
       "| Paciente5 | 2  | 4  |  6 | 1  |\n",
       "\n"
      ],
      "text/plain": [
       "          VecMat1 VecMat2 VecMat3 VectMat4\n",
       "Paciente1 1       5        9      4       \n",
       "Paciente2 2       6       10      5       \n",
       "Paciente3 3       7       11      6       \n",
       "Paciente4 4       8       12      9       \n",
       "Paciente5 2       4        6      1       "
      ]
     },
     "metadata": {},
     "output_type": "display_data"
    }
   ],
   "source": [
    "#Para cambiar el nombre de las filas\n",
    "rownames(Mat1)<-c(\"Paciente1\", \"Paciente2\", \"Paciente3\", \"Paciente4\",\"Paciente5\")\n",
    "Mat1"
   ]
  },
  {
   "cell_type": "code",
   "execution_count": 42,
   "id": "floating-wildlife",
   "metadata": {},
   "outputs": [
    {
     "data": {
      "text/html": [
       "<table>\n",
       "<thead><tr><th></th><th scope=col>NHijos</th><th scope=col>NHermanos</th><th scope=col>NSobrinos</th><th scope=col>NTios</th></tr></thead>\n",
       "<tbody>\n",
       "\t<tr><th scope=row>Paciente1</th><td>1 </td><td>5 </td><td> 9</td><td>4 </td></tr>\n",
       "\t<tr><th scope=row>Paciente2</th><td>2 </td><td>6 </td><td>10</td><td>5 </td></tr>\n",
       "\t<tr><th scope=row>Paciente3</th><td>3 </td><td>7 </td><td>11</td><td>6 </td></tr>\n",
       "\t<tr><th scope=row>Paciente4</th><td>4 </td><td>8 </td><td>12</td><td>9 </td></tr>\n",
       "\t<tr><th scope=row>Paciente5</th><td>2 </td><td>4 </td><td> 6</td><td>1 </td></tr>\n",
       "</tbody>\n",
       "</table>\n"
      ],
      "text/latex": [
       "\\begin{tabular}{r|llll}\n",
       "  & NHijos & NHermanos & NSobrinos & NTios\\\\\n",
       "\\hline\n",
       "\tPaciente1 & 1  & 5  &  9 & 4 \\\\\n",
       "\tPaciente2 & 2  & 6  & 10 & 5 \\\\\n",
       "\tPaciente3 & 3  & 7  & 11 & 6 \\\\\n",
       "\tPaciente4 & 4  & 8  & 12 & 9 \\\\\n",
       "\tPaciente5 & 2  & 4  &  6 & 1 \\\\\n",
       "\\end{tabular}\n"
      ],
      "text/markdown": [
       "\n",
       "| <!--/--> | NHijos | NHermanos | NSobrinos | NTios |\n",
       "|---|---|---|---|---|\n",
       "| Paciente1 | 1  | 5  |  9 | 4  |\n",
       "| Paciente2 | 2  | 6  | 10 | 5  |\n",
       "| Paciente3 | 3  | 7  | 11 | 6  |\n",
       "| Paciente4 | 4  | 8  | 12 | 9  |\n",
       "| Paciente5 | 2  | 4  |  6 | 1  |\n",
       "\n"
      ],
      "text/plain": [
       "          NHijos NHermanos NSobrinos NTios\n",
       "Paciente1 1      5          9        4    \n",
       "Paciente2 2      6         10        5    \n",
       "Paciente3 3      7         11        6    \n",
       "Paciente4 4      8         12        9    \n",
       "Paciente5 2      4          6        1    "
      ]
     },
     "metadata": {},
     "output_type": "display_data"
    }
   ],
   "source": [
    "#Para cambiar el nombre de las columnas\n",
    "colnames(Mat1)<-c(\"NHijos\",\"NHermanos\",\"NSobrinos\",\"NTios\")\n",
    "Mat1"
   ]
  },
  {
   "cell_type": "markdown",
   "id": "digital-marsh",
   "metadata": {},
   "source": [
    "### Seleccion de Elementos\n",
    "\n",
    "Podemos seleccionar datos especificos de una matriz de la siguiente manera "
   ]
  },
  {
   "cell_type": "code",
   "execution_count": 43,
   "id": "tight-barrel",
   "metadata": {},
   "outputs": [
    {
     "data": {
      "text/html": [
       "<dl class=dl-horizontal>\n",
       "\t<dt>NHijos</dt>\n",
       "\t\t<dd>1</dd>\n",
       "\t<dt>NHermanos</dt>\n",
       "\t\t<dd>5</dd>\n",
       "\t<dt>NSobrinos</dt>\n",
       "\t\t<dd>9</dd>\n",
       "\t<dt>NTios</dt>\n",
       "\t\t<dd>4</dd>\n",
       "</dl>\n"
      ],
      "text/latex": [
       "\\begin{description*}\n",
       "\\item[NHijos] 1\n",
       "\\item[NHermanos] 5\n",
       "\\item[NSobrinos] 9\n",
       "\\item[NTios] 4\n",
       "\\end{description*}\n"
      ],
      "text/markdown": [
       "NHijos\n",
       ":   1NHermanos\n",
       ":   5NSobrinos\n",
       ":   9NTios\n",
       ":   4\n",
       "\n"
      ],
      "text/plain": [
       "   NHijos NHermanos NSobrinos     NTios \n",
       "        1         5         9         4 "
      ]
     },
     "metadata": {},
     "output_type": "display_data"
    }
   ],
   "source": [
    "Mat1[1,]"
   ]
  },
  {
   "cell_type": "code",
   "execution_count": 44,
   "id": "verbal-buyer",
   "metadata": {},
   "outputs": [
    {
     "data": {
      "text/html": [
       "<dl class=dl-horizontal>\n",
       "\t<dt>Paciente1</dt>\n",
       "\t\t<dd>1</dd>\n",
       "\t<dt>Paciente2</dt>\n",
       "\t\t<dd>2</dd>\n",
       "\t<dt>Paciente3</dt>\n",
       "\t\t<dd>3</dd>\n",
       "\t<dt>Paciente4</dt>\n",
       "\t\t<dd>4</dd>\n",
       "\t<dt>Paciente5</dt>\n",
       "\t\t<dd>2</dd>\n",
       "</dl>\n"
      ],
      "text/latex": [
       "\\begin{description*}\n",
       "\\item[Paciente1] 1\n",
       "\\item[Paciente2] 2\n",
       "\\item[Paciente3] 3\n",
       "\\item[Paciente4] 4\n",
       "\\item[Paciente5] 2\n",
       "\\end{description*}\n"
      ],
      "text/markdown": [
       "Paciente1\n",
       ":   1Paciente2\n",
       ":   2Paciente3\n",
       ":   3Paciente4\n",
       ":   4Paciente5\n",
       ":   2\n",
       "\n"
      ],
      "text/plain": [
       "Paciente1 Paciente2 Paciente3 Paciente4 Paciente5 \n",
       "        1         2         3         4         2 "
      ]
     },
     "metadata": {},
     "output_type": "display_data"
    }
   ],
   "source": [
    "Mat1[,1]"
   ]
  },
  {
   "cell_type": "code",
   "execution_count": 45,
   "id": "toxic-plastic",
   "metadata": {},
   "outputs": [
    {
     "data": {
      "text/html": [
       "5"
      ],
      "text/latex": [
       "5"
      ],
      "text/markdown": [
       "5"
      ],
      "text/plain": [
       "[1] 5"
      ]
     },
     "metadata": {},
     "output_type": "display_data"
    }
   ],
   "source": [
    "Mat1[1,2]"
   ]
  },
  {
   "cell_type": "markdown",
   "id": "indoor-variance",
   "metadata": {},
   "source": [
    "También podemos utilizar el nombre de la fila y/o columna para seleccionar un dato especifico de la matriz"
   ]
  },
  {
   "cell_type": "code",
   "execution_count": 46,
   "id": "altered-sterling",
   "metadata": {},
   "outputs": [
    {
     "data": {
      "text/html": [
       "<dl class=dl-horizontal>\n",
       "\t<dt>NHijos</dt>\n",
       "\t\t<dd>2</dd>\n",
       "\t<dt>NHermanos</dt>\n",
       "\t\t<dd>6</dd>\n",
       "\t<dt>NSobrinos</dt>\n",
       "\t\t<dd>10</dd>\n",
       "\t<dt>NTios</dt>\n",
       "\t\t<dd>5</dd>\n",
       "</dl>\n"
      ],
      "text/latex": [
       "\\begin{description*}\n",
       "\\item[NHijos] 2\n",
       "\\item[NHermanos] 6\n",
       "\\item[NSobrinos] 10\n",
       "\\item[NTios] 5\n",
       "\\end{description*}\n"
      ],
      "text/markdown": [
       "NHijos\n",
       ":   2NHermanos\n",
       ":   6NSobrinos\n",
       ":   10NTios\n",
       ":   5\n",
       "\n"
      ],
      "text/plain": [
       "   NHijos NHermanos NSobrinos     NTios \n",
       "        2         6        10         5 "
      ]
     },
     "metadata": {},
     "output_type": "display_data"
    }
   ],
   "source": [
    "Mat1[\"Paciente2\",]"
   ]
  },
  {
   "cell_type": "code",
   "execution_count": 47,
   "id": "statewide-ladder",
   "metadata": {},
   "outputs": [
    {
     "data": {
      "text/html": [
       "<dl class=dl-horizontal>\n",
       "\t<dt>Paciente1</dt>\n",
       "\t\t<dd>9</dd>\n",
       "\t<dt>Paciente2</dt>\n",
       "\t\t<dd>10</dd>\n",
       "\t<dt>Paciente3</dt>\n",
       "\t\t<dd>11</dd>\n",
       "\t<dt>Paciente4</dt>\n",
       "\t\t<dd>12</dd>\n",
       "\t<dt>Paciente5</dt>\n",
       "\t\t<dd>6</dd>\n",
       "</dl>\n"
      ],
      "text/latex": [
       "\\begin{description*}\n",
       "\\item[Paciente1] 9\n",
       "\\item[Paciente2] 10\n",
       "\\item[Paciente3] 11\n",
       "\\item[Paciente4] 12\n",
       "\\item[Paciente5] 6\n",
       "\\end{description*}\n"
      ],
      "text/markdown": [
       "Paciente1\n",
       ":   9Paciente2\n",
       ":   10Paciente3\n",
       ":   11Paciente4\n",
       ":   12Paciente5\n",
       ":   6\n",
       "\n"
      ],
      "text/plain": [
       "Paciente1 Paciente2 Paciente3 Paciente4 Paciente5 \n",
       "        9        10        11        12         6 "
      ]
     },
     "metadata": {},
     "output_type": "display_data"
    }
   ],
   "source": [
    "Mat1[,\"NSobrinos\"]"
   ]
  },
  {
   "cell_type": "code",
   "execution_count": 48,
   "id": "contemporary-lawyer",
   "metadata": {},
   "outputs": [
    {
     "data": {
      "text/html": [
       "7"
      ],
      "text/latex": [
       "7"
      ],
      "text/markdown": [
       "7"
      ],
      "text/plain": [
       "[1] 7"
      ]
     },
     "metadata": {},
     "output_type": "display_data"
    }
   ],
   "source": [
    "Mat1[\"Paciente3\",\"NHermanos\"]"
   ]
  },
  {
   "cell_type": "markdown",
   "id": "sixth-discretion",
   "metadata": {},
   "source": [
    "### Eliminar Filas y Columnas\n",
    "Para eliminar filas usamos la notación ``[-i,]`` y para las columas ``[,-j]``."
   ]
  },
  {
   "cell_type": "code",
   "execution_count": 49,
   "id": "surgical-helping",
   "metadata": {},
   "outputs": [
    {
     "data": {
      "text/html": [
       "<table>\n",
       "<thead><tr><th></th><th scope=col>NHijos</th><th scope=col>NHermanos</th><th scope=col>NSobrinos</th><th scope=col>NTios</th></tr></thead>\n",
       "<tbody>\n",
       "\t<tr><th scope=row>Paciente1</th><td>1 </td><td>5 </td><td> 9</td><td>4 </td></tr>\n",
       "\t<tr><th scope=row>Paciente2</th><td>2 </td><td>6 </td><td>10</td><td>5 </td></tr>\n",
       "\t<tr><th scope=row>Paciente3</th><td>3 </td><td>7 </td><td>11</td><td>6 </td></tr>\n",
       "\t<tr><th scope=row>Paciente4</th><td>4 </td><td>8 </td><td>12</td><td>9 </td></tr>\n",
       "</tbody>\n",
       "</table>\n"
      ],
      "text/latex": [
       "\\begin{tabular}{r|llll}\n",
       "  & NHijos & NHermanos & NSobrinos & NTios\\\\\n",
       "\\hline\n",
       "\tPaciente1 & 1  & 5  &  9 & 4 \\\\\n",
       "\tPaciente2 & 2  & 6  & 10 & 5 \\\\\n",
       "\tPaciente3 & 3  & 7  & 11 & 6 \\\\\n",
       "\tPaciente4 & 4  & 8  & 12 & 9 \\\\\n",
       "\\end{tabular}\n"
      ],
      "text/markdown": [
       "\n",
       "| <!--/--> | NHijos | NHermanos | NSobrinos | NTios |\n",
       "|---|---|---|---|---|\n",
       "| Paciente1 | 1  | 5  |  9 | 4  |\n",
       "| Paciente2 | 2  | 6  | 10 | 5  |\n",
       "| Paciente3 | 3  | 7  | 11 | 6  |\n",
       "| Paciente4 | 4  | 8  | 12 | 9  |\n",
       "\n"
      ],
      "text/plain": [
       "          NHijos NHermanos NSobrinos NTios\n",
       "Paciente1 1      5          9        4    \n",
       "Paciente2 2      6         10        5    \n",
       "Paciente3 3      7         11        6    \n",
       "Paciente4 4      8         12        9    "
      ]
     },
     "metadata": {},
     "output_type": "display_data"
    }
   ],
   "source": [
    "Mat1[-5,]"
   ]
  },
  {
   "cell_type": "code",
   "execution_count": 50,
   "id": "olive-transformation",
   "metadata": {},
   "outputs": [
    {
     "data": {
      "text/html": [
       "<table>\n",
       "<thead><tr><th></th><th scope=col>NHijos</th><th scope=col>NHermanos</th><th scope=col>NTios</th></tr></thead>\n",
       "<tbody>\n",
       "\t<tr><th scope=row>Paciente1</th><td>1</td><td>5</td><td>4</td></tr>\n",
       "\t<tr><th scope=row>Paciente2</th><td>2</td><td>6</td><td>5</td></tr>\n",
       "\t<tr><th scope=row>Paciente3</th><td>3</td><td>7</td><td>6</td></tr>\n",
       "\t<tr><th scope=row>Paciente4</th><td>4</td><td>8</td><td>9</td></tr>\n",
       "\t<tr><th scope=row>Paciente5</th><td>2</td><td>4</td><td>1</td></tr>\n",
       "</tbody>\n",
       "</table>\n"
      ],
      "text/latex": [
       "\\begin{tabular}{r|lll}\n",
       "  & NHijos & NHermanos & NTios\\\\\n",
       "\\hline\n",
       "\tPaciente1 & 1 & 5 & 4\\\\\n",
       "\tPaciente2 & 2 & 6 & 5\\\\\n",
       "\tPaciente3 & 3 & 7 & 6\\\\\n",
       "\tPaciente4 & 4 & 8 & 9\\\\\n",
       "\tPaciente5 & 2 & 4 & 1\\\\\n",
       "\\end{tabular}\n"
      ],
      "text/markdown": [
       "\n",
       "| <!--/--> | NHijos | NHermanos | NTios |\n",
       "|---|---|---|---|\n",
       "| Paciente1 | 1 | 5 | 4 |\n",
       "| Paciente2 | 2 | 6 | 5 |\n",
       "| Paciente3 | 3 | 7 | 6 |\n",
       "| Paciente4 | 4 | 8 | 9 |\n",
       "| Paciente5 | 2 | 4 | 1 |\n",
       "\n"
      ],
      "text/plain": [
       "          NHijos NHermanos NTios\n",
       "Paciente1 1      5         4    \n",
       "Paciente2 2      6         5    \n",
       "Paciente3 3      7         6    \n",
       "Paciente4 4      8         9    \n",
       "Paciente5 2      4         1    "
      ]
     },
     "metadata": {},
     "output_type": "display_data"
    }
   ],
   "source": [
    "Mat1[,-3]"
   ]
  },
  {
   "cell_type": "markdown",
   "id": "greenhouse-messenger",
   "metadata": {},
   "source": [
    "Se pueden aplicar operaciones a las matrices y estas se aplicarán a cada uno de sus elementos."
   ]
  },
  {
   "cell_type": "code",
   "execution_count": 51,
   "id": "difficult-imperial",
   "metadata": {},
   "outputs": [
    {
     "data": {
      "text/html": [
       "<table>\n",
       "<tbody>\n",
       "\t<tr><td>1</td><td>4</td><td>7</td></tr>\n",
       "\t<tr><td>2</td><td>5</td><td>8</td></tr>\n",
       "\t<tr><td>3</td><td>6</td><td>9</td></tr>\n",
       "</tbody>\n",
       "</table>\n"
      ],
      "text/latex": [
       "\\begin{tabular}{lll}\n",
       "\t 1 & 4 & 7\\\\\n",
       "\t 2 & 5 & 8\\\\\n",
       "\t 3 & 6 & 9\\\\\n",
       "\\end{tabular}\n"
      ],
      "text/markdown": [
       "\n",
       "| 1 | 4 | 7 |\n",
       "| 2 | 5 | 8 |\n",
       "| 3 | 6 | 9 |\n",
       "\n"
      ],
      "text/plain": [
       "     [,1] [,2] [,3]\n",
       "[1,] 1    4    7   \n",
       "[2,] 2    5    8   \n",
       "[3,] 3    6    9   "
      ]
     },
     "metadata": {},
     "output_type": "display_data"
    }
   ],
   "source": [
    "MatrizOpe <- matrix(1:9, nrow=3, ncol=3)\n",
    "MatrizOpe"
   ]
  },
  {
   "cell_type": "code",
   "execution_count": 53,
   "id": "variable-vienna",
   "metadata": {},
   "outputs": [],
   "source": [
    "MatrizOpe <- MatrizOpe + 1"
   ]
  },
  {
   "cell_type": "code",
   "execution_count": 52,
   "id": "accessory-rouge",
   "metadata": {},
   "outputs": [
    {
     "data": {
      "text/html": [
       "<table>\n",
       "<tbody>\n",
       "\t<tr><td>3 </td><td>12</td><td>21</td></tr>\n",
       "\t<tr><td>6 </td><td>15</td><td>24</td></tr>\n",
       "\t<tr><td>9 </td><td>18</td><td>27</td></tr>\n",
       "</tbody>\n",
       "</table>\n"
      ],
      "text/latex": [
       "\\begin{tabular}{lll}\n",
       "\t 3  & 12 & 21\\\\\n",
       "\t 6  & 15 & 24\\\\\n",
       "\t 9  & 18 & 27\\\\\n",
       "\\end{tabular}\n"
      ],
      "text/markdown": [
       "\n",
       "| 3  | 12 | 21 |\n",
       "| 6  | 15 | 24 |\n",
       "| 9  | 18 | 27 |\n",
       "\n"
      ],
      "text/plain": [
       "     [,1] [,2] [,3]\n",
       "[1,] 3    12   21  \n",
       "[2,] 6    15   24  \n",
       "[3,] 9    18   27  "
      ]
     },
     "metadata": {},
     "output_type": "display_data"
    }
   ],
   "source": [
    "MatrizOpe*3"
   ]
  },
  {
   "cell_type": "code",
   "execution_count": 54,
   "id": "presidential-passenger",
   "metadata": {},
   "outputs": [
    {
     "data": {
      "text/html": [
       "<table>\n",
       "<tbody>\n",
       "\t<tr><td> 4 </td><td>25 </td><td> 64</td></tr>\n",
       "\t<tr><td> 9 </td><td>36 </td><td> 81</td></tr>\n",
       "\t<tr><td>16 </td><td>49 </td><td>100</td></tr>\n",
       "</tbody>\n",
       "</table>\n"
      ],
      "text/latex": [
       "\\begin{tabular}{lll}\n",
       "\t  4  & 25  &  64\\\\\n",
       "\t  9  & 36  &  81\\\\\n",
       "\t 16  & 49  & 100\\\\\n",
       "\\end{tabular}\n"
      ],
      "text/markdown": [
       "\n",
       "|  4  | 25  |  64 |\n",
       "|  9  | 36  |  81 |\n",
       "| 16  | 49  | 100 |\n",
       "\n"
      ],
      "text/plain": [
       "     [,1] [,2] [,3]\n",
       "[1,]  4   25    64 \n",
       "[2,]  9   36    81 \n",
       "[3,] 16   49   100 "
      ]
     },
     "metadata": {},
     "output_type": "display_data"
    }
   ],
   "source": [
    "MatrizOpe ^2"
   ]
  },
  {
   "cell_type": "markdown",
   "id": "broadband-valve",
   "metadata": {},
   "source": [
    "Se puede utilizar la función ``t()`` para transponer una matriz, es decir, rotarla 90°."
   ]
  },
  {
   "cell_type": "code",
   "execution_count": 55,
   "id": "unknown-salvation",
   "metadata": {},
   "outputs": [
    {
     "data": {
      "text/html": [
       "<table>\n",
       "<tbody>\n",
       "\t<tr><td>2 </td><td>3 </td><td> 4</td></tr>\n",
       "\t<tr><td>5 </td><td>6 </td><td> 7</td></tr>\n",
       "\t<tr><td>8 </td><td>9 </td><td>10</td></tr>\n",
       "</tbody>\n",
       "</table>\n"
      ],
      "text/latex": [
       "\\begin{tabular}{lll}\n",
       "\t 2  & 3  &  4\\\\\n",
       "\t 5  & 6  &  7\\\\\n",
       "\t 8  & 9  & 10\\\\\n",
       "\\end{tabular}\n"
      ],
      "text/markdown": [
       "\n",
       "| 2  | 3  |  4 |\n",
       "| 5  | 6  |  7 |\n",
       "| 8  | 9  | 10 |\n",
       "\n"
      ],
      "text/plain": [
       "     [,1] [,2] [,3]\n",
       "[1,] 2    3     4  \n",
       "[2,] 5    6     7  \n",
       "[3,] 8    9    10  "
      ]
     },
     "metadata": {},
     "output_type": "display_data"
    }
   ],
   "source": [
    "MatrizTrans <- t(MatrizOpe)\n",
    "MatrizTrans"
   ]
  },
  {
   "cell_type": "markdown",
   "id": "oriental-block",
   "metadata": {},
   "source": [
    "## Listas"
   ]
  },
  {
   "cell_type": "markdown",
   "id": "remarkable-primary",
   "metadata": {},
   "source": [
    "Las listas, al igual que los vectores son unidimensionales, pero a diferencia de los vectores cada uno de sus elementos puede ser de diferente tipo o clase.\n",
    "\n",
    "* Una lista puede contener a otra lista\n",
    "\n",
    "Para crear una lista se usa la funcion ``list()`` y podemos poner nombre a cada elemento.\n",
    "\n",
    "No se pueden realizar operaciones con listas.\n"
   ]
  },
  {
   "cell_type": "code",
   "execution_count": 56,
   "id": "proud-legislation",
   "metadata": {},
   "outputs": [
    {
     "data": {
      "text/html": [
       "<ol>\n",
       "\t<li>1</li>\n",
       "\t<li>'pedro'</li>\n",
       "\t<li>TRUE</li>\n",
       "</ol>\n"
      ],
      "text/latex": [
       "\\begin{enumerate}\n",
       "\\item 1\n",
       "\\item 'pedro'\n",
       "\\item TRUE\n",
       "\\end{enumerate}\n"
      ],
      "text/markdown": [
       "1. 1\n",
       "2. 'pedro'\n",
       "3. TRUE\n",
       "\n",
       "\n"
      ],
      "text/plain": [
       "[[1]]\n",
       "[1] 1\n",
       "\n",
       "[[2]]\n",
       "[1] \"pedro\"\n",
       "\n",
       "[[3]]\n",
       "[1] TRUE\n"
      ]
     },
     "metadata": {},
     "output_type": "display_data"
    }
   ],
   "source": [
    "list(1, \"pedro\", T)"
   ]
  },
  {
   "cell_type": "code",
   "execution_count": 57,
   "id": "danish-transaction",
   "metadata": {},
   "outputs": [
    {
     "data": {
      "text/html": [
       "<dl>\n",
       "\t<dt>$Numero</dt>\n",
       "\t\t<dd>1</dd>\n",
       "\t<dt>$Nombre</dt>\n",
       "\t\t<dd>'Pedro'</dd>\n",
       "\t<dt>$Valor</dt>\n",
       "\t\t<dd>TRUE</dd>\n",
       "</dl>\n"
      ],
      "text/latex": [
       "\\begin{description}\n",
       "\\item[\\$Numero] 1\n",
       "\\item[\\$Nombre] 'Pedro'\n",
       "\\item[\\$Valor] TRUE\n",
       "\\end{description}\n"
      ],
      "text/markdown": [
       "$Numero\n",
       ":   1\n",
       "$Nombre\n",
       ":   'Pedro'\n",
       "$Valor\n",
       ":   TRUE\n",
       "\n",
       "\n"
      ],
      "text/plain": [
       "$Numero\n",
       "[1] 1\n",
       "\n",
       "$Nombre\n",
       "[1] \"Pedro\"\n",
       "\n",
       "$Valor\n",
       "[1] TRUE\n"
      ]
     },
     "metadata": {},
     "output_type": "display_data"
    }
   ],
   "source": [
    "Lista1 <-list(\"Numero\" = 1, \"Nombre\" = \"Pedro\", \"Valor\" = T)\n",
    "Lista1"
   ]
  },
  {
   "cell_type": "code",
   "execution_count": 58,
   "id": "continuous-anniversary",
   "metadata": {},
   "outputs": [
    {
     "data": {
      "text/html": [
       "<ol>\n",
       "\t<li>'casa'</li>\n",
       "\t<li>120</li>\n",
       "\t<li><dl>\n",
       "\t<dt>$Numero</dt>\n",
       "\t\t<dd>1</dd>\n",
       "\t<dt>$Nombre</dt>\n",
       "\t\t<dd>'Pedro'</dd>\n",
       "\t<dt>$Valor</dt>\n",
       "\t\t<dd>TRUE</dd>\n",
       "</dl>\n",
       "</li>\n",
       "</ol>\n"
      ],
      "text/latex": [
       "\\begin{enumerate}\n",
       "\\item 'casa'\n",
       "\\item 120\n",
       "\\item \\begin{description}\n",
       "\\item[\\$Numero] 1\n",
       "\\item[\\$Nombre] 'Pedro'\n",
       "\\item[\\$Valor] TRUE\n",
       "\\end{description}\n",
       "\n",
       "\\end{enumerate}\n"
      ],
      "text/markdown": [
       "1. 'casa'\n",
       "2. 120\n",
       "3. $Numero\n",
       ":   1\n",
       "$Nombre\n",
       ":   'Pedro'\n",
       "$Valor\n",
       ":   TRUE\n",
       "\n",
       "\n",
       "\n",
       "\n",
       "\n"
      ],
      "text/plain": [
       "[[1]]\n",
       "[1] \"casa\"\n",
       "\n",
       "[[2]]\n",
       "[1] 120\n",
       "\n",
       "[[3]]\n",
       "[[3]]$Numero\n",
       "[1] 1\n",
       "\n",
       "[[3]]$Nombre\n",
       "[1] \"Pedro\"\n",
       "\n",
       "[[3]]$Valor\n",
       "[1] TRUE\n",
       "\n"
      ]
     },
     "metadata": {},
     "output_type": "display_data"
    }
   ],
   "source": [
    "Lista2 <- list(\"casa\", 120, Lista1)\n",
    "Lista2"
   ]
  },
  {
   "cell_type": "markdown",
   "id": "global-thriller",
   "metadata": {},
   "source": [
    "El largo de una lista es igual al número de elementos que contiene, sin importar de que clase sean. Y siempre tienen clase list, sin importar los elementos que contengan."
   ]
  },
  {
   "cell_type": "code",
   "execution_count": 59,
   "id": "provincial-worthy",
   "metadata": {},
   "outputs": [
    {
     "data": {
      "text/html": [
       "3"
      ],
      "text/latex": [
       "3"
      ],
      "text/markdown": [
       "3"
      ],
      "text/plain": [
       "[1] 3"
      ]
     },
     "metadata": {},
     "output_type": "display_data"
    }
   ],
   "source": [
    "length(Lista1)"
   ]
  },
  {
   "cell_type": "code",
   "execution_count": 60,
   "id": "higher-connecticut",
   "metadata": {},
   "outputs": [
    {
     "data": {
      "text/html": [
       "3"
      ],
      "text/latex": [
       "3"
      ],
      "text/markdown": [
       "3"
      ],
      "text/plain": [
       "[1] 3"
      ]
     },
     "metadata": {},
     "output_type": "display_data"
    }
   ],
   "source": [
    "length(Lista2)"
   ]
  },
  {
   "cell_type": "markdown",
   "id": "motivated-campaign",
   "metadata": {},
   "source": [
    "## Data frames\n",
    "\n",
    "Esta estructura es la más usada para realizar análisis de datos. \n",
    "\n",
    "Los date frames se utilizan en R para almacenar datos. En términos generales, los renglones en un data frame representan casos, individuos u observaciones, mientras que las columnas representan atributos, rasgos o variables.\n",
    "\n",
    "A continuación un ejemplo (objeto iris, del conjunto de datos *Iris de Ronald Fisher*,que esta incluido en todas las instalaciones de R) "
   ]
  },
  {
   "cell_type": "code",
   "execution_count": 61,
   "id": "driven-paper",
   "metadata": {},
   "outputs": [
    {
     "data": {
      "text/html": [
       "<table>\n",
       "<thead><tr><th scope=col>Sepal.Length</th><th scope=col>Sepal.Width</th><th scope=col>Petal.Length</th><th scope=col>Petal.Width</th><th scope=col>Species</th></tr></thead>\n",
       "<tbody>\n",
       "\t<tr><td>5.1   </td><td>3.5   </td><td>1.4   </td><td>0.2   </td><td>setosa</td></tr>\n",
       "\t<tr><td>4.9   </td><td>3.0   </td><td>1.4   </td><td>0.2   </td><td>setosa</td></tr>\n",
       "\t<tr><td>4.7   </td><td>3.2   </td><td>1.3   </td><td>0.2   </td><td>setosa</td></tr>\n",
       "\t<tr><td>4.6   </td><td>3.1   </td><td>1.5   </td><td>0.2   </td><td>setosa</td></tr>\n",
       "\t<tr><td>5.0   </td><td>3.6   </td><td>1.4   </td><td>0.2   </td><td>setosa</td></tr>\n",
       "\t<tr><td>5.4   </td><td>3.9   </td><td>1.7   </td><td>0.4   </td><td>setosa</td></tr>\n",
       "</tbody>\n",
       "</table>\n"
      ],
      "text/latex": [
       "\\begin{tabular}{r|lllll}\n",
       " Sepal.Length & Sepal.Width & Petal.Length & Petal.Width & Species\\\\\n",
       "\\hline\n",
       "\t 5.1    & 3.5    & 1.4    & 0.2    & setosa\\\\\n",
       "\t 4.9    & 3.0    & 1.4    & 0.2    & setosa\\\\\n",
       "\t 4.7    & 3.2    & 1.3    & 0.2    & setosa\\\\\n",
       "\t 4.6    & 3.1    & 1.5    & 0.2    & setosa\\\\\n",
       "\t 5.0    & 3.6    & 1.4    & 0.2    & setosa\\\\\n",
       "\t 5.4    & 3.9    & 1.7    & 0.4    & setosa\\\\\n",
       "\\end{tabular}\n"
      ],
      "text/markdown": [
       "\n",
       "| Sepal.Length | Sepal.Width | Petal.Length | Petal.Width | Species |\n",
       "|---|---|---|---|---|\n",
       "| 5.1    | 3.5    | 1.4    | 0.2    | setosa |\n",
       "| 4.9    | 3.0    | 1.4    | 0.2    | setosa |\n",
       "| 4.7    | 3.2    | 1.3    | 0.2    | setosa |\n",
       "| 4.6    | 3.1    | 1.5    | 0.2    | setosa |\n",
       "| 5.0    | 3.6    | 1.4    | 0.2    | setosa |\n",
       "| 5.4    | 3.9    | 1.7    | 0.4    | setosa |\n",
       "\n"
      ],
      "text/plain": [
       "  Sepal.Length Sepal.Width Petal.Length Petal.Width Species\n",
       "1 5.1          3.5         1.4          0.2         setosa \n",
       "2 4.9          3.0         1.4          0.2         setosa \n",
       "3 4.7          3.2         1.3          0.2         setosa \n",
       "4 4.6          3.1         1.5          0.2         setosa \n",
       "5 5.0          3.6         1.4          0.2         setosa \n",
       "6 5.4          3.9         1.7          0.4         setosa "
      ]
     },
     "metadata": {},
     "output_type": "display_data"
    }
   ],
   "source": [
    "head(iris)"
   ]
  },
  {
   "cell_type": "markdown",
   "id": "integrated-partner",
   "metadata": {},
   "source": [
    "***Importante:*** Los Data Frames se crean con vectores."
   ]
  },
  {
   "cell_type": "markdown",
   "id": "brief-explanation",
   "metadata": {},
   "source": [
    "## Creación de Data Frames\n",
    "\n",
    "Usamos la función ``data.frame()`` para crear un data frame, en donde pondremos vectores, cada vector será una columna. Todos los vectores que proporcionemos deben tener el mismo largo. Podemos poner nombre a cada vector, debemos procurar que este nombre sea descriptivo.\n",
    "\n"
   ]
  },
  {
   "cell_type": "code",
   "execution_count": 62,
   "id": "american-disney",
   "metadata": {},
   "outputs": [
    {
     "data": {
      "text/html": [
       "<table>\n",
       "<thead><tr><th scope=col>Id</th><th scope=col>fecha</th><th scope=col>edad</th><th scope=col>peso</th><th scope=col>altura</th></tr></thead>\n",
       "<tbody>\n",
       "\t<tr><td>P1        </td><td>11/12/2020</td><td>30        </td><td> 80.0     </td><td>1.48      </td></tr>\n",
       "\t<tr><td>P2        </td><td>11/11/2020</td><td>43        </td><td> 69.6     </td><td>1.56      </td></tr>\n",
       "\t<tr><td>P3        </td><td>01/12/2020</td><td>49        </td><td>137.0     </td><td>1.77      </td></tr>\n",
       "\t<tr><td>P4        </td><td>01/11/2020</td><td>53        </td><td> 96.5     </td><td>1.52      </td></tr>\n",
       "</tbody>\n",
       "</table>\n"
      ],
      "text/latex": [
       "\\begin{tabular}{r|lllll}\n",
       " Id & fecha & edad & peso & altura\\\\\n",
       "\\hline\n",
       "\t P1         & 11/12/2020 & 30         &  80.0      & 1.48      \\\\\n",
       "\t P2         & 11/11/2020 & 43         &  69.6      & 1.56      \\\\\n",
       "\t P3         & 01/12/2020 & 49         & 137.0      & 1.77      \\\\\n",
       "\t P4         & 01/11/2020 & 53         &  96.5      & 1.52      \\\\\n",
       "\\end{tabular}\n"
      ],
      "text/markdown": [
       "\n",
       "| Id | fecha | edad | peso | altura |\n",
       "|---|---|---|---|---|\n",
       "| P1         | 11/12/2020 | 30         |  80.0      | 1.48       |\n",
       "| P2         | 11/11/2020 | 43         |  69.6      | 1.56       |\n",
       "| P3         | 01/12/2020 | 49         | 137.0      | 1.77       |\n",
       "| P4         | 01/11/2020 | 53         |  96.5      | 1.52       |\n",
       "\n"
      ],
      "text/plain": [
       "  Id fecha      edad peso  altura\n",
       "1 P1 11/12/2020 30    80.0 1.48  \n",
       "2 P2 11/11/2020 43    69.6 1.56  \n",
       "3 P3 01/12/2020 49   137.0 1.77  \n",
       "4 P4 01/11/2020 53    96.5 1.52  "
      ]
     },
     "metadata": {},
     "output_type": "display_data"
    }
   ],
   "source": [
    "Pacientes1 <- data.frame( \"Id\" = c(\"P1\",\"P2\",\"P3\",\"P4\"),\n",
    "                         \"fecha\" = c(\"11/12/2020\",\"11/11/2020\",\"01/12/2020\",\"01/11/2020\"),\n",
    "                \"edad\"= c(30, 43, 49, 53),\n",
    "                \"peso\" = c(80,69.6,137,96.5),\n",
    "                \"altura\" = c(1.48,1.56,1.77,1.52))\n",
    "Pacientes1"
   ]
  },
  {
   "cell_type": "markdown",
   "id": "mounted-football",
   "metadata": {},
   "source": [
    "Existen algunas funciones que podemos usar para conocer datos sobre el data.frame."
   ]
  },
  {
   "cell_type": "code",
   "execution_count": 63,
   "id": "architectural-kingston",
   "metadata": {},
   "outputs": [
    {
     "data": {
      "text/html": [
       "<ol class=list-inline>\n",
       "\t<li>4</li>\n",
       "\t<li>5</li>\n",
       "</ol>\n"
      ],
      "text/latex": [
       "\\begin{enumerate*}\n",
       "\\item 4\n",
       "\\item 5\n",
       "\\end{enumerate*}\n"
      ],
      "text/markdown": [
       "1. 4\n",
       "2. 5\n",
       "\n",
       "\n"
      ],
      "text/plain": [
       "[1] 4 5"
      ]
     },
     "metadata": {},
     "output_type": "display_data"
    }
   ],
   "source": [
    "#Para saber la dimensión, el primer numero representa las filas y el segundo las columnas\n",
    "dim(Pacientes1)"
   ]
  },
  {
   "cell_type": "code",
   "execution_count": 64,
   "id": "valid-competition",
   "metadata": {},
   "outputs": [
    {
     "data": {
      "text/html": [
       "4"
      ],
      "text/latex": [
       "4"
      ],
      "text/markdown": [
       "4"
      ],
      "text/plain": [
       "[1] 4"
      ]
     },
     "metadata": {},
     "output_type": "display_data"
    },
    {
     "data": {
      "text/html": [
       "4"
      ],
      "text/latex": [
       "4"
      ],
      "text/markdown": [
       "4"
      ],
      "text/plain": [
       "[1] 4"
      ]
     },
     "metadata": {},
     "output_type": "display_data"
    }
   ],
   "source": [
    "#Para saber el numero de registros (filas)\n",
    "dim(Pacientes1)[1]\n",
    "nrow(Pacientes1)"
   ]
  },
  {
   "cell_type": "code",
   "execution_count": 65,
   "id": "manual-poison",
   "metadata": {},
   "outputs": [
    {
     "data": {
      "text/html": [
       "5"
      ],
      "text/latex": [
       "5"
      ],
      "text/markdown": [
       "5"
      ],
      "text/plain": [
       "[1] 5"
      ]
     },
     "metadata": {},
     "output_type": "display_data"
    },
    {
     "data": {
      "text/html": [
       "5"
      ],
      "text/latex": [
       "5"
      ],
      "text/markdown": [
       "5"
      ],
      "text/plain": [
       "[1] 5"
      ]
     },
     "metadata": {},
     "output_type": "display_data"
    }
   ],
   "source": [
    "#Para saber el largo (es decir el número de columnas)\n",
    "dim(Pacientes1)[2]\n",
    "ncol(Pacientes1)"
   ]
  },
  {
   "cell_type": "code",
   "execution_count": 66,
   "id": "brief-routine",
   "metadata": {},
   "outputs": [
    {
     "data": {
      "text/html": [
       "<ol class=list-inline>\n",
       "\t<li>'Id'</li>\n",
       "\t<li>'fecha'</li>\n",
       "\t<li>'edad'</li>\n",
       "\t<li>'peso'</li>\n",
       "\t<li>'altura'</li>\n",
       "</ol>\n"
      ],
      "text/latex": [
       "\\begin{enumerate*}\n",
       "\\item 'Id'\n",
       "\\item 'fecha'\n",
       "\\item 'edad'\n",
       "\\item 'peso'\n",
       "\\item 'altura'\n",
       "\\end{enumerate*}\n"
      ],
      "text/markdown": [
       "1. 'Id'\n",
       "2. 'fecha'\n",
       "3. 'edad'\n",
       "4. 'peso'\n",
       "5. 'altura'\n",
       "\n",
       "\n"
      ],
      "text/plain": [
       "[1] \"Id\"     \"fecha\"  \"edad\"   \"peso\"   \"altura\""
      ]
     },
     "metadata": {},
     "output_type": "display_data"
    }
   ],
   "source": [
    "# names() para ver los nombres de las columnas\n",
    "names(Pacientes1)"
   ]
  },
  {
   "cell_type": "code",
   "execution_count": 67,
   "id": "coastal-gateway",
   "metadata": {},
   "outputs": [
    {
     "name": "stdout",
     "output_type": "stream",
     "text": [
      "'data.frame':\t4 obs. of  5 variables:\n",
      " $ Id    : Factor w/ 4 levels \"P1\",\"P2\",\"P3\",..: 1 2 3 4\n",
      " $ fecha : Factor w/ 4 levels \"01/11/2020\",\"01/12/2020\",..: 4 3 2 1\n",
      " $ edad  : num  30 43 49 53\n",
      " $ peso  : num  80 69.6 137 96.5\n",
      " $ altura: num  1.48 1.56 1.77 1.52\n"
     ]
    }
   ],
   "source": [
    "#Para conocer la estructura str()\n",
    "str(Pacientes1)"
   ]
  },
  {
   "cell_type": "markdown",
   "id": "seventh-practice",
   "metadata": {},
   "source": [
    "Podemos observar que las variables ``ID`` y ``Fecha`` son tratadas como \"Factor\". Los factores son una clase de vector que contiene los datos de una variable categorica. Cuando R crea un factor, unicamente permite los valores que originalmente estaban ahí cuando cargamos los datos."
   ]
  },
  {
   "cell_type": "markdown",
   "id": "light-above",
   "metadata": {},
   "source": [
    "Para evitar esto podemos definir el tipo de variable que serán:"
   ]
  },
  {
   "cell_type": "code",
   "execution_count": 68,
   "id": "informational-opera",
   "metadata": {},
   "outputs": [
    {
     "data": {
      "text/html": [
       "<table>\n",
       "<thead><tr><th scope=col>Id</th><th scope=col>fecha</th><th scope=col>edad</th><th scope=col>peso</th><th scope=col>altura</th></tr></thead>\n",
       "<tbody>\n",
       "\t<tr><td>P1        </td><td>0011-12-20</td><td>30        </td><td> 80.0     </td><td>1.48      </td></tr>\n",
       "\t<tr><td>P2        </td><td>0011-11-20</td><td>43        </td><td> 69.6     </td><td>1.56      </td></tr>\n",
       "\t<tr><td>P3        </td><td>0001-12-20</td><td>49        </td><td>137.0     </td><td>1.77      </td></tr>\n",
       "\t<tr><td>P4        </td><td>0001-11-20</td><td>53        </td><td> 96.5     </td><td>1.52      </td></tr>\n",
       "</tbody>\n",
       "</table>\n"
      ],
      "text/latex": [
       "\\begin{tabular}{r|lllll}\n",
       " Id & fecha & edad & peso & altura\\\\\n",
       "\\hline\n",
       "\t P1         & 0011-12-20 & 30         &  80.0      & 1.48      \\\\\n",
       "\t P2         & 0011-11-20 & 43         &  69.6      & 1.56      \\\\\n",
       "\t P3         & 0001-12-20 & 49         & 137.0      & 1.77      \\\\\n",
       "\t P4         & 0001-11-20 & 53         &  96.5      & 1.52      \\\\\n",
       "\\end{tabular}\n"
      ],
      "text/markdown": [
       "\n",
       "| Id | fecha | edad | peso | altura |\n",
       "|---|---|---|---|---|\n",
       "| P1         | 0011-12-20 | 30         |  80.0      | 1.48       |\n",
       "| P2         | 0011-11-20 | 43         |  69.6      | 1.56       |\n",
       "| P3         | 0001-12-20 | 49         | 137.0      | 1.77       |\n",
       "| P4         | 0001-11-20 | 53         |  96.5      | 1.52       |\n",
       "\n"
      ],
      "text/plain": [
       "  Id fecha      edad peso  altura\n",
       "1 P1 0011-12-20 30    80.0 1.48  \n",
       "2 P2 0011-11-20 43    69.6 1.56  \n",
       "3 P3 0001-12-20 49   137.0 1.77  \n",
       "4 P4 0001-11-20 53    96.5 1.52  "
      ]
     },
     "metadata": {},
     "output_type": "display_data"
    }
   ],
   "source": [
    "Pacientes1 <- data.frame( \"Id\" = c(\"P1\",\"P2\",\"P3\",\"P4\"),\n",
    "                         \"fecha\" = as.Date(c(\"11/12/2020\",\"11/11/2020\",\"01/12/2020\",\"01/11/2020\")),\n",
    "                \"edad\"= as.numeric(c(30, 43, 49, 53)),\n",
    "                \"peso\" = c(80,69.6,137,96.5),\n",
    "                \"altura\" = c(1.48,1.56,1.77,1.52))\n",
    "Pacientes1"
   ]
  },
  {
   "cell_type": "code",
   "execution_count": 69,
   "id": "anticipated-bibliography",
   "metadata": {},
   "outputs": [
    {
     "name": "stdout",
     "output_type": "stream",
     "text": [
      "'data.frame':\t4 obs. of  5 variables:\n",
      " $ Id    : Factor w/ 4 levels \"P1\",\"P2\",\"P3\",..: 1 2 3 4\n",
      " $ fecha : Date, format: \"0011-12-20\" \"0011-11-20\" ...\n",
      " $ edad  : num  30 43 49 53\n",
      " $ peso  : num  80 69.6 137 96.5\n",
      " $ altura: num  1.48 1.56 1.77 1.52\n"
     ]
    }
   ],
   "source": [
    "str(Pacientes1)"
   ]
  },
  {
   "cell_type": "markdown",
   "id": "pleased-brooks",
   "metadata": {},
   "source": [
    "R lee este tipo de dato de la forma \"aaaa/mm/dd\". Por lo que si metemos datos de otra forma hay que indicarle el formato, para que pueda leerlos."
   ]
  },
  {
   "cell_type": "code",
   "execution_count": 70,
   "id": "laden-emperor",
   "metadata": {},
   "outputs": [
    {
     "data": {
      "text/html": [
       "<table>\n",
       "<thead><tr><th scope=col>Id</th><th scope=col>fecha</th><th scope=col>edad</th><th scope=col>peso</th><th scope=col>altura</th></tr></thead>\n",
       "<tbody>\n",
       "\t<tr><td>P1        </td><td>2020-12-11</td><td>30        </td><td> 80.0     </td><td>1.48      </td></tr>\n",
       "\t<tr><td>P2        </td><td>2020-11-11</td><td>43        </td><td> 69.6     </td><td>1.56      </td></tr>\n",
       "\t<tr><td>P3        </td><td>2020-12-01</td><td>49        </td><td>137.0     </td><td>1.77      </td></tr>\n",
       "\t<tr><td>P4        </td><td>2020-11-01</td><td>53        </td><td> 96.5     </td><td>1.52      </td></tr>\n",
       "</tbody>\n",
       "</table>\n"
      ],
      "text/latex": [
       "\\begin{tabular}{r|lllll}\n",
       " Id & fecha & edad & peso & altura\\\\\n",
       "\\hline\n",
       "\t P1         & 2020-12-11 & 30         &  80.0      & 1.48      \\\\\n",
       "\t P2         & 2020-11-11 & 43         &  69.6      & 1.56      \\\\\n",
       "\t P3         & 2020-12-01 & 49         & 137.0      & 1.77      \\\\\n",
       "\t P4         & 2020-11-01 & 53         &  96.5      & 1.52      \\\\\n",
       "\\end{tabular}\n"
      ],
      "text/markdown": [
       "\n",
       "| Id | fecha | edad | peso | altura |\n",
       "|---|---|---|---|---|\n",
       "| P1         | 2020-12-11 | 30         |  80.0      | 1.48       |\n",
       "| P2         | 2020-11-11 | 43         |  69.6      | 1.56       |\n",
       "| P3         | 2020-12-01 | 49         | 137.0      | 1.77       |\n",
       "| P4         | 2020-11-01 | 53         |  96.5      | 1.52       |\n",
       "\n"
      ],
      "text/plain": [
       "  Id fecha      edad peso  altura\n",
       "1 P1 2020-12-11 30    80.0 1.48  \n",
       "2 P2 2020-11-11 43    69.6 1.56  \n",
       "3 P3 2020-12-01 49   137.0 1.77  \n",
       "4 P4 2020-11-01 53    96.5 1.52  "
      ]
     },
     "metadata": {},
     "output_type": "display_data"
    }
   ],
   "source": [
    "Pacientes1 <- data.frame( \"Id\" = c(\"P1\",\"P2\",\"P3\",\"P4\"),\n",
    "                         \"fecha\" = as.Date(c(\"11/12/2020\",\"11/11/2020\",\"01/12/2020\",\"01/11/2020\"), format = \"%d/%m/%Y\"),\n",
    "                \"edad\"= as.numeric(c(30, 43, 49, 53)),\n",
    "                \"peso\" = c(80,69.6,137,96.5),\n",
    "                \"altura\" = c(1.48,1.56,1.77,1.52))\n",
    "Pacientes1"
   ]
  },
  {
   "cell_type": "markdown",
   "id": "crucial-dependence",
   "metadata": {},
   "source": [
    "Podemos cambiar los nombres de nuestras columnas con la función ``names()``."
   ]
  },
  {
   "cell_type": "code",
   "execution_count": 71,
   "id": "mounted-giving",
   "metadata": {},
   "outputs": [
    {
     "data": {
      "text/html": [
       "<table>\n",
       "<thead><tr><th scope=col>ID</th><th scope=col>Fecha</th><th scope=col>Edad</th><th scope=col>Peso</th><th scope=col>Altura</th></tr></thead>\n",
       "<tbody>\n",
       "\t<tr><td>P1        </td><td>2020-12-11</td><td>30        </td><td> 80.0     </td><td>1.48      </td></tr>\n",
       "\t<tr><td>P2        </td><td>2020-11-11</td><td>43        </td><td> 69.6     </td><td>1.56      </td></tr>\n",
       "\t<tr><td>P3        </td><td>2020-12-01</td><td>49        </td><td>137.0     </td><td>1.77      </td></tr>\n",
       "\t<tr><td>P4        </td><td>2020-11-01</td><td>53        </td><td> 96.5     </td><td>1.52      </td></tr>\n",
       "</tbody>\n",
       "</table>\n"
      ],
      "text/latex": [
       "\\begin{tabular}{r|lllll}\n",
       " ID & Fecha & Edad & Peso & Altura\\\\\n",
       "\\hline\n",
       "\t P1         & 2020-12-11 & 30         &  80.0      & 1.48      \\\\\n",
       "\t P2         & 2020-11-11 & 43         &  69.6      & 1.56      \\\\\n",
       "\t P3         & 2020-12-01 & 49         & 137.0      & 1.77      \\\\\n",
       "\t P4         & 2020-11-01 & 53         &  96.5      & 1.52      \\\\\n",
       "\\end{tabular}\n"
      ],
      "text/markdown": [
       "\n",
       "| ID | Fecha | Edad | Peso | Altura |\n",
       "|---|---|---|---|---|\n",
       "| P1         | 2020-12-11 | 30         |  80.0      | 1.48       |\n",
       "| P2         | 2020-11-11 | 43         |  69.6      | 1.56       |\n",
       "| P3         | 2020-12-01 | 49         | 137.0      | 1.77       |\n",
       "| P4         | 2020-11-01 | 53         |  96.5      | 1.52       |\n",
       "\n"
      ],
      "text/plain": [
       "  ID Fecha      Edad Peso  Altura\n",
       "1 P1 2020-12-11 30    80.0 1.48  \n",
       "2 P2 2020-11-11 43    69.6 1.56  \n",
       "3 P3 2020-12-01 49   137.0 1.77  \n",
       "4 P4 2020-11-01 53    96.5 1.52  "
      ]
     },
     "metadata": {},
     "output_type": "display_data"
    }
   ],
   "source": [
    "names(Pacientes1) <-c(\"ID\",\"Fecha\",\"Edad\", \"Peso\", \"Altura\")\n",
    "Pacientes1"
   ]
  },
  {
   "cell_type": "code",
   "execution_count": 72,
   "id": "homeless-fluid",
   "metadata": {},
   "outputs": [
    {
     "data": {
      "text/html": [
       "<table>\n",
       "<thead><tr><th></th><th scope=col>ID</th><th scope=col>Fecha</th><th scope=col>Edad</th><th scope=col>Peso</th><th scope=col>Altura</th></tr></thead>\n",
       "<tbody>\n",
       "\t<tr><th scope=row>R1</th><td>P1        </td><td>2020-12-11</td><td>30        </td><td> 80.0     </td><td>1.48      </td></tr>\n",
       "\t<tr><th scope=row>R2</th><td>P2        </td><td>2020-11-11</td><td>43        </td><td> 69.6     </td><td>1.56      </td></tr>\n",
       "\t<tr><th scope=row>R3</th><td>P3        </td><td>2020-12-01</td><td>49        </td><td>137.0     </td><td>1.77      </td></tr>\n",
       "\t<tr><th scope=row>R4</th><td>P4        </td><td>2020-11-01</td><td>53        </td><td> 96.5     </td><td>1.52      </td></tr>\n",
       "</tbody>\n",
       "</table>\n"
      ],
      "text/latex": [
       "\\begin{tabular}{r|lllll}\n",
       "  & ID & Fecha & Edad & Peso & Altura\\\\\n",
       "\\hline\n",
       "\tR1 & P1         & 2020-12-11 & 30         &  80.0      & 1.48      \\\\\n",
       "\tR2 & P2         & 2020-11-11 & 43         &  69.6      & 1.56      \\\\\n",
       "\tR3 & P3         & 2020-12-01 & 49         & 137.0      & 1.77      \\\\\n",
       "\tR4 & P4         & 2020-11-01 & 53         &  96.5      & 1.52      \\\\\n",
       "\\end{tabular}\n"
      ],
      "text/markdown": [
       "\n",
       "| <!--/--> | ID | Fecha | Edad | Peso | Altura |\n",
       "|---|---|---|---|---|---|\n",
       "| R1 | P1         | 2020-12-11 | 30         |  80.0      | 1.48       |\n",
       "| R2 | P2         | 2020-11-11 | 43         |  69.6      | 1.56       |\n",
       "| R3 | P3         | 2020-12-01 | 49         | 137.0      | 1.77       |\n",
       "| R4 | P4         | 2020-11-01 | 53         |  96.5      | 1.52       |\n",
       "\n"
      ],
      "text/plain": [
       "   ID Fecha      Edad Peso  Altura\n",
       "R1 P1 2020-12-11 30    80.0 1.48  \n",
       "R2 P2 2020-11-11 43    69.6 1.56  \n",
       "R3 P3 2020-12-01 49   137.0 1.77  \n",
       "R4 P4 2020-11-01 53    96.5 1.52  "
      ]
     },
     "metadata": {},
     "output_type": "display_data"
    }
   ],
   "source": [
    "rownames(Pacientes1) <-c(\"R1\",\"R2\",\"R3\",\"R4\")\n",
    "Pacientes1"
   ]
  },
  {
   "cell_type": "markdown",
   "id": "verified-monte",
   "metadata": {},
   "source": [
    "### Selección de elementos\n"
   ]
  },
  {
   "cell_type": "markdown",
   "id": "defensive-bench",
   "metadata": {},
   "source": [
    "Podemos seleccionar datos dentro de nuestro data.frame con las siguientes instrucciones:"
   ]
  },
  {
   "cell_type": "code",
   "execution_count": 73,
   "id": "accessory-hypothesis",
   "metadata": {},
   "outputs": [
    {
     "data": {
      "text/html": [
       "<table>\n",
       "<thead><tr><th></th><th scope=col>ID</th><th scope=col>Fecha</th><th scope=col>Edad</th><th scope=col>Peso</th><th scope=col>Altura</th></tr></thead>\n",
       "<tbody>\n",
       "\t<tr><th scope=row>R2</th><td>P2        </td><td>2020-11-11</td><td>43        </td><td>69.6      </td><td>1.56      </td></tr>\n",
       "</tbody>\n",
       "</table>\n"
      ],
      "text/latex": [
       "\\begin{tabular}{r|lllll}\n",
       "  & ID & Fecha & Edad & Peso & Altura\\\\\n",
       "\\hline\n",
       "\tR2 & P2         & 2020-11-11 & 43         & 69.6       & 1.56      \\\\\n",
       "\\end{tabular}\n"
      ],
      "text/markdown": [
       "\n",
       "| <!--/--> | ID | Fecha | Edad | Peso | Altura |\n",
       "|---|---|---|---|---|---|\n",
       "| R2 | P2         | 2020-11-11 | 43         | 69.6       | 1.56       |\n",
       "\n"
      ],
      "text/plain": [
       "   ID Fecha      Edad Peso Altura\n",
       "R2 P2 2020-11-11 43   69.6 1.56  "
      ]
     },
     "metadata": {},
     "output_type": "display_data"
    }
   ],
   "source": [
    "#Si queremos ver la información de una fila en especifico\n",
    "Pacientes1[2,]"
   ]
  },
  {
   "cell_type": "code",
   "execution_count": 74,
   "id": "brief-employment",
   "metadata": {},
   "outputs": [
    {
     "data": {
      "text/html": [
       "<table>\n",
       "<thead><tr><th></th><th scope=col>ID</th><th scope=col>Fecha</th><th scope=col>Edad</th><th scope=col>Peso</th><th scope=col>Altura</th></tr></thead>\n",
       "<tbody>\n",
       "\t<tr><th scope=row>R2</th><td>P2        </td><td>2020-11-11</td><td>43        </td><td> 69.6     </td><td>1.56      </td></tr>\n",
       "\t<tr><th scope=row>R3</th><td>P3        </td><td>2020-12-01</td><td>49        </td><td>137.0     </td><td>1.77      </td></tr>\n",
       "</tbody>\n",
       "</table>\n"
      ],
      "text/latex": [
       "\\begin{tabular}{r|lllll}\n",
       "  & ID & Fecha & Edad & Peso & Altura\\\\\n",
       "\\hline\n",
       "\tR2 & P2         & 2020-11-11 & 43         &  69.6      & 1.56      \\\\\n",
       "\tR3 & P3         & 2020-12-01 & 49         & 137.0      & 1.77      \\\\\n",
       "\\end{tabular}\n"
      ],
      "text/markdown": [
       "\n",
       "| <!--/--> | ID | Fecha | Edad | Peso | Altura |\n",
       "|---|---|---|---|---|---|\n",
       "| R2 | P2         | 2020-11-11 | 43         |  69.6      | 1.56       |\n",
       "| R3 | P3         | 2020-12-01 | 49         | 137.0      | 1.77       |\n",
       "\n"
      ],
      "text/plain": [
       "   ID Fecha      Edad Peso  Altura\n",
       "R2 P2 2020-11-11 43    69.6 1.56  \n",
       "R3 P3 2020-12-01 49   137.0 1.77  "
      ]
     },
     "metadata": {},
     "output_type": "display_data"
    }
   ],
   "source": [
    "#Para ver un conjunto de filas\n",
    "Pacientes1[2:3,]"
   ]
  },
  {
   "cell_type": "code",
   "execution_count": 75,
   "id": "spectacular-contest",
   "metadata": {},
   "outputs": [
    {
     "data": {
      "text/html": [
       "<table>\n",
       "<thead><tr><th></th><th scope=col>Peso</th><th scope=col>Altura</th></tr></thead>\n",
       "<tbody>\n",
       "\t<tr><th scope=row>R2</th><td> 69.6</td><td>1.56 </td></tr>\n",
       "\t<tr><th scope=row>R3</th><td>137.0</td><td>1.77 </td></tr>\n",
       "</tbody>\n",
       "</table>\n"
      ],
      "text/latex": [
       "\\begin{tabular}{r|ll}\n",
       "  & Peso & Altura\\\\\n",
       "\\hline\n",
       "\tR2 &  69.6 & 1.56 \\\\\n",
       "\tR3 & 137.0 & 1.77 \\\\\n",
       "\\end{tabular}\n"
      ],
      "text/markdown": [
       "\n",
       "| <!--/--> | Peso | Altura |\n",
       "|---|---|---|\n",
       "| R2 |  69.6 | 1.56  |\n",
       "| R3 | 137.0 | 1.77  |\n",
       "\n"
      ],
      "text/plain": [
       "   Peso  Altura\n",
       "R2  69.6 1.56  \n",
       "R3 137.0 1.77  "
      ]
     },
     "metadata": {},
     "output_type": "display_data"
    }
   ],
   "source": [
    "#Podemos ver una fila y columna en especifico\n",
    "Pacientes1[2:3,4:5]"
   ]
  },
  {
   "cell_type": "code",
   "execution_count": 76,
   "id": "interior-stocks",
   "metadata": {},
   "outputs": [
    {
     "data": {
      "text/html": [
       "<ol class=list-inline>\n",
       "\t<li>30</li>\n",
       "\t<li>43</li>\n",
       "\t<li>49</li>\n",
       "\t<li>53</li>\n",
       "</ol>\n"
      ],
      "text/latex": [
       "\\begin{enumerate*}\n",
       "\\item 30\n",
       "\\item 43\n",
       "\\item 49\n",
       "\\item 53\n",
       "\\end{enumerate*}\n"
      ],
      "text/markdown": [
       "1. 30\n",
       "2. 43\n",
       "3. 49\n",
       "4. 53\n",
       "\n",
       "\n"
      ],
      "text/plain": [
       "[1] 30 43 49 53"
      ]
     },
     "metadata": {},
     "output_type": "display_data"
    }
   ],
   "source": [
    "#Para ver una columa podemos usar \n",
    "Pacientes1[,3]"
   ]
  },
  {
   "cell_type": "code",
   "execution_count": 77,
   "id": "selected-collectible",
   "metadata": {},
   "outputs": [
    {
     "data": {
      "text/html": [
       "<ol class=list-inline>\n",
       "\t<li>1.48</li>\n",
       "\t<li>1.56</li>\n",
       "\t<li>1.77</li>\n",
       "\t<li>1.52</li>\n",
       "</ol>\n"
      ],
      "text/latex": [
       "\\begin{enumerate*}\n",
       "\\item 1.48\n",
       "\\item 1.56\n",
       "\\item 1.77\n",
       "\\item 1.52\n",
       "\\end{enumerate*}\n"
      ],
      "text/markdown": [
       "1. 1.48\n",
       "2. 1.56\n",
       "3. 1.77\n",
       "4. 1.52\n",
       "\n",
       "\n"
      ],
      "text/plain": [
       "[1] 1.48 1.56 1.77 1.52"
      ]
     },
     "metadata": {},
     "output_type": "display_data"
    }
   ],
   "source": [
    "#También podemos llamarlas por su nombre de la siguiente forma\n",
    "Pacientes1$Altura"
   ]
  },
  {
   "cell_type": "code",
   "execution_count": 78,
   "id": "optional-acoustic",
   "metadata": {},
   "outputs": [
    {
     "data": {
      "text/html": [
       "1.5825"
      ],
      "text/latex": [
       "1.5825"
      ],
      "text/markdown": [
       "1.5825"
      ],
      "text/plain": [
       "[1] 1.5825"
      ]
     },
     "metadata": {},
     "output_type": "display_data"
    }
   ],
   "source": [
    "mean(Pacientes1$Altura)"
   ]
  },
  {
   "cell_type": "code",
   "execution_count": 79,
   "id": "bottom-cornwall",
   "metadata": {},
   "outputs": [
    {
     "data": {
      "text/html": [
       "<ol class=list-inline>\n",
       "\t<li>1.48</li>\n",
       "\t<li>1.56</li>\n",
       "\t<li>1.77</li>\n",
       "\t<li>1.52</li>\n",
       "</ol>\n"
      ],
      "text/latex": [
       "\\begin{enumerate*}\n",
       "\\item 1.48\n",
       "\\item 1.56\n",
       "\\item 1.77\n",
       "\\item 1.52\n",
       "\\end{enumerate*}\n"
      ],
      "text/markdown": [
       "1. 1.48\n",
       "2. 1.56\n",
       "3. 1.77\n",
       "4. 1.52\n",
       "\n",
       "\n"
      ],
      "text/plain": [
       "[1] 1.48 1.56 1.77 1.52"
      ]
     },
     "metadata": {},
     "output_type": "display_data"
    }
   ],
   "source": [
    "#O poner el nombre dentro del corchete\n",
    "Pacientes1[,\"Altura\"]"
   ]
  },
  {
   "cell_type": "markdown",
   "id": "technical-passenger",
   "metadata": {},
   "source": [
    "### Eliminar Columnas y Filas.\n",
    "\n",
    "Para eliminar valores o columnas enteras debemos asignar el valor ``NULL`` a lo que deseamos eliminar.\n"
   ]
  },
  {
   "cell_type": "markdown",
   "id": "professional-wedding",
   "metadata": {},
   "source": [
    "Primero creemos una copia de nuestro DataFrame."
   ]
  },
  {
   "cell_type": "code",
   "execution_count": 80,
   "id": "opposed-respondent",
   "metadata": {},
   "outputs": [
    {
     "data": {
      "text/html": [
       "<table>\n",
       "<thead><tr><th></th><th scope=col>ID</th><th scope=col>Fecha</th><th scope=col>Edad</th><th scope=col>Peso</th><th scope=col>Altura</th></tr></thead>\n",
       "<tbody>\n",
       "\t<tr><th scope=row>R1</th><td>P1        </td><td>2020-12-11</td><td>30        </td><td> 80.0     </td><td>1.48      </td></tr>\n",
       "\t<tr><th scope=row>R2</th><td>P2        </td><td>2020-11-11</td><td>43        </td><td> 69.6     </td><td>1.56      </td></tr>\n",
       "\t<tr><th scope=row>R3</th><td>P3        </td><td>2020-12-01</td><td>49        </td><td>137.0     </td><td>1.77      </td></tr>\n",
       "\t<tr><th scope=row>R4</th><td>P4        </td><td>2020-11-01</td><td>53        </td><td> 96.5     </td><td>1.52      </td></tr>\n",
       "</tbody>\n",
       "</table>\n"
      ],
      "text/latex": [
       "\\begin{tabular}{r|lllll}\n",
       "  & ID & Fecha & Edad & Peso & Altura\\\\\n",
       "\\hline\n",
       "\tR1 & P1         & 2020-12-11 & 30         &  80.0      & 1.48      \\\\\n",
       "\tR2 & P2         & 2020-11-11 & 43         &  69.6      & 1.56      \\\\\n",
       "\tR3 & P3         & 2020-12-01 & 49         & 137.0      & 1.77      \\\\\n",
       "\tR4 & P4         & 2020-11-01 & 53         &  96.5      & 1.52      \\\\\n",
       "\\end{tabular}\n"
      ],
      "text/markdown": [
       "\n",
       "| <!--/--> | ID | Fecha | Edad | Peso | Altura |\n",
       "|---|---|---|---|---|---|\n",
       "| R1 | P1         | 2020-12-11 | 30         |  80.0      | 1.48       |\n",
       "| R2 | P2         | 2020-11-11 | 43         |  69.6      | 1.56       |\n",
       "| R3 | P3         | 2020-12-01 | 49         | 137.0      | 1.77       |\n",
       "| R4 | P4         | 2020-11-01 | 53         |  96.5      | 1.52       |\n",
       "\n"
      ],
      "text/plain": [
       "   ID Fecha      Edad Peso  Altura\n",
       "R1 P1 2020-12-11 30    80.0 1.48  \n",
       "R2 P2 2020-11-11 43    69.6 1.56  \n",
       "R3 P3 2020-12-01 49   137.0 1.77  \n",
       "R4 P4 2020-11-01 53    96.5 1.52  "
      ]
     },
     "metadata": {},
     "output_type": "display_data"
    }
   ],
   "source": [
    "CopiaPacientes1<-Pacientes1\n",
    "CopiaPacientes1"
   ]
  },
  {
   "cell_type": "markdown",
   "id": "assured-cholesterol",
   "metadata": {},
   "source": [
    "Para el caso de columnas hacemos lo siguiente:"
   ]
  },
  {
   "cell_type": "code",
   "execution_count": 81,
   "id": "suspected-foster",
   "metadata": {},
   "outputs": [
    {
     "data": {
      "text/html": [
       "<ol class=list-inline>\n",
       "\t<li>'ID'</li>\n",
       "\t<li>'Edad'</li>\n",
       "\t<li>'Peso'</li>\n",
       "\t<li>'Altura'</li>\n",
       "</ol>\n"
      ],
      "text/latex": [
       "\\begin{enumerate*}\n",
       "\\item 'ID'\n",
       "\\item 'Edad'\n",
       "\\item 'Peso'\n",
       "\\item 'Altura'\n",
       "\\end{enumerate*}\n"
      ],
      "text/markdown": [
       "1. 'ID'\n",
       "2. 'Edad'\n",
       "3. 'Peso'\n",
       "4. 'Altura'\n",
       "\n",
       "\n"
      ],
      "text/plain": [
       "[1] \"ID\"     \"Edad\"   \"Peso\"   \"Altura\""
      ]
     },
     "metadata": {},
     "output_type": "display_data"
    }
   ],
   "source": [
    "CopiaPacientes1$Fecha<-NULL\n",
    "names(CopiaPacientes1)"
   ]
  },
  {
   "cell_type": "code",
   "execution_count": 82,
   "id": "promising-landscape",
   "metadata": {},
   "outputs": [
    {
     "data": {
      "text/html": [
       "<table>\n",
       "<thead><tr><th></th><th scope=col>ID</th><th scope=col>Edad</th><th scope=col>Peso</th><th scope=col>Altura</th></tr></thead>\n",
       "<tbody>\n",
       "\t<tr><th scope=row>R1</th><td>P1   </td><td>30   </td><td> 80.0</td><td>1.48 </td></tr>\n",
       "\t<tr><th scope=row>R2</th><td>P2   </td><td>43   </td><td> 69.6</td><td>1.56 </td></tr>\n",
       "\t<tr><th scope=row>R3</th><td>P3   </td><td>49   </td><td>137.0</td><td>1.77 </td></tr>\n",
       "\t<tr><th scope=row>R4</th><td>P4   </td><td>53   </td><td> 96.5</td><td>1.52 </td></tr>\n",
       "</tbody>\n",
       "</table>\n"
      ],
      "text/latex": [
       "\\begin{tabular}{r|llll}\n",
       "  & ID & Edad & Peso & Altura\\\\\n",
       "\\hline\n",
       "\tR1 & P1    & 30    &  80.0 & 1.48 \\\\\n",
       "\tR2 & P2    & 43    &  69.6 & 1.56 \\\\\n",
       "\tR3 & P3    & 49    & 137.0 & 1.77 \\\\\n",
       "\tR4 & P4    & 53    &  96.5 & 1.52 \\\\\n",
       "\\end{tabular}\n"
      ],
      "text/markdown": [
       "\n",
       "| <!--/--> | ID | Edad | Peso | Altura |\n",
       "|---|---|---|---|---|\n",
       "| R1 | P1    | 30    |  80.0 | 1.48  |\n",
       "| R2 | P2    | 43    |  69.6 | 1.56  |\n",
       "| R3 | P3    | 49    | 137.0 | 1.77  |\n",
       "| R4 | P4    | 53    |  96.5 | 1.52  |\n",
       "\n"
      ],
      "text/plain": [
       "   ID Edad Peso  Altura\n",
       "R1 P1 30    80.0 1.48  \n",
       "R2 P2 43    69.6 1.56  \n",
       "R3 P3 49   137.0 1.77  \n",
       "R4 P4 53    96.5 1.52  "
      ]
     },
     "metadata": {},
     "output_type": "display_data"
    }
   ],
   "source": [
    "CopiaPacientes1"
   ]
  },
  {
   "cell_type": "markdown",
   "id": "warming-vancouver",
   "metadata": {},
   "source": [
    "Para quitar varias columas podemos usar las siguientes instrucciones:"
   ]
  },
  {
   "cell_type": "code",
   "execution_count": 83,
   "id": "integrated-bearing",
   "metadata": {},
   "outputs": [
    {
     "data": {
      "text/html": [
       "<table>\n",
       "<thead><tr><th></th><th scope=col>ID</th><th scope=col>Altura</th></tr></thead>\n",
       "<tbody>\n",
       "\t<tr><th scope=row>R1</th><td>P1  </td><td>1.48</td></tr>\n",
       "\t<tr><th scope=row>R2</th><td>P2  </td><td>1.56</td></tr>\n",
       "\t<tr><th scope=row>R3</th><td>P3  </td><td>1.77</td></tr>\n",
       "\t<tr><th scope=row>R4</th><td>P4  </td><td>1.52</td></tr>\n",
       "</tbody>\n",
       "</table>\n"
      ],
      "text/latex": [
       "\\begin{tabular}{r|ll}\n",
       "  & ID & Altura\\\\\n",
       "\\hline\n",
       "\tR1 & P1   & 1.48\\\\\n",
       "\tR2 & P2   & 1.56\\\\\n",
       "\tR3 & P3   & 1.77\\\\\n",
       "\tR4 & P4   & 1.52\\\\\n",
       "\\end{tabular}\n"
      ],
      "text/markdown": [
       "\n",
       "| <!--/--> | ID | Altura |\n",
       "|---|---|---|\n",
       "| R1 | P1   | 1.48 |\n",
       "| R2 | P2   | 1.56 |\n",
       "| R3 | P3   | 1.77 |\n",
       "| R4 | P4   | 1.52 |\n",
       "\n"
      ],
      "text/plain": [
       "   ID Altura\n",
       "R1 P1 1.48  \n",
       "R2 P2 1.56  \n",
       "R3 P3 1.77  \n",
       "R4 P4 1.52  "
      ]
     },
     "metadata": {},
     "output_type": "display_data"
    }
   ],
   "source": [
    "CopiaPacientes1[ ,-c(2:3)]"
   ]
  },
  {
   "cell_type": "code",
   "execution_count": 84,
   "id": "several-beauty",
   "metadata": {},
   "outputs": [
    {
     "data": {
      "text/html": [
       "<table>\n",
       "<thead><tr><th></th><th scope=col>ID</th><th scope=col>Fecha</th><th scope=col>Edad</th><th scope=col>Peso</th><th scope=col>Altura</th></tr></thead>\n",
       "<tbody>\n",
       "\t<tr><th scope=row>R1</th><td>P1        </td><td>2020-12-11</td><td>30        </td><td> 80.0     </td><td>1.48      </td></tr>\n",
       "\t<tr><th scope=row>R2</th><td>P2        </td><td>2020-11-11</td><td>43        </td><td> 69.6     </td><td>1.56      </td></tr>\n",
       "\t<tr><th scope=row>R3</th><td>P3        </td><td>2020-12-01</td><td>49        </td><td>137.0     </td><td>1.77      </td></tr>\n",
       "\t<tr><th scope=row>R4</th><td>P4        </td><td>2020-11-01</td><td>53        </td><td> 96.5     </td><td>1.52      </td></tr>\n",
       "</tbody>\n",
       "</table>\n"
      ],
      "text/latex": [
       "\\begin{tabular}{r|lllll}\n",
       "  & ID & Fecha & Edad & Peso & Altura\\\\\n",
       "\\hline\n",
       "\tR1 & P1         & 2020-12-11 & 30         &  80.0      & 1.48      \\\\\n",
       "\tR2 & P2         & 2020-11-11 & 43         &  69.6      & 1.56      \\\\\n",
       "\tR3 & P3         & 2020-12-01 & 49         & 137.0      & 1.77      \\\\\n",
       "\tR4 & P4         & 2020-11-01 & 53         &  96.5      & 1.52      \\\\\n",
       "\\end{tabular}\n"
      ],
      "text/markdown": [
       "\n",
       "| <!--/--> | ID | Fecha | Edad | Peso | Altura |\n",
       "|---|---|---|---|---|---|\n",
       "| R1 | P1         | 2020-12-11 | 30         |  80.0      | 1.48       |\n",
       "| R2 | P2         | 2020-11-11 | 43         |  69.6      | 1.56       |\n",
       "| R3 | P3         | 2020-12-01 | 49         | 137.0      | 1.77       |\n",
       "| R4 | P4         | 2020-11-01 | 53         |  96.5      | 1.52       |\n",
       "\n"
      ],
      "text/plain": [
       "   ID Fecha      Edad Peso  Altura\n",
       "R1 P1 2020-12-11 30    80.0 1.48  \n",
       "R2 P2 2020-11-11 43    69.6 1.56  \n",
       "R3 P3 2020-12-01 49   137.0 1.77  \n",
       "R4 P4 2020-11-01 53    96.5 1.52  "
      ]
     },
     "metadata": {},
     "output_type": "display_data"
    }
   ],
   "source": [
    "CopiaPacientes2<- Pacientes1\n",
    "CopiaPacientes2"
   ]
  },
  {
   "cell_type": "code",
   "execution_count": 85,
   "id": "inside-blind",
   "metadata": {},
   "outputs": [
    {
     "data": {
      "text/html": [
       "<table>\n",
       "<thead><tr><th></th><th scope=col>ID</th><th scope=col>Edad</th><th scope=col>Peso</th></tr></thead>\n",
       "<tbody>\n",
       "\t<tr><th scope=row>R1</th><td>P1   </td><td>30   </td><td> 80.0</td></tr>\n",
       "\t<tr><th scope=row>R2</th><td>P2   </td><td>43   </td><td> 69.6</td></tr>\n",
       "\t<tr><th scope=row>R3</th><td>P3   </td><td>49   </td><td>137.0</td></tr>\n",
       "\t<tr><th scope=row>R4</th><td>P4   </td><td>53   </td><td> 96.5</td></tr>\n",
       "</tbody>\n",
       "</table>\n"
      ],
      "text/latex": [
       "\\begin{tabular}{r|lll}\n",
       "  & ID & Edad & Peso\\\\\n",
       "\\hline\n",
       "\tR1 & P1    & 30    &  80.0\\\\\n",
       "\tR2 & P2    & 43    &  69.6\\\\\n",
       "\tR3 & P3    & 49    & 137.0\\\\\n",
       "\tR4 & P4    & 53    &  96.5\\\\\n",
       "\\end{tabular}\n"
      ],
      "text/markdown": [
       "\n",
       "| <!--/--> | ID | Edad | Peso |\n",
       "|---|---|---|---|\n",
       "| R1 | P1    | 30    |  80.0 |\n",
       "| R2 | P2    | 43    |  69.6 |\n",
       "| R3 | P3    | 49    | 137.0 |\n",
       "| R4 | P4    | 53    |  96.5 |\n",
       "\n"
      ],
      "text/plain": [
       "   ID Edad Peso \n",
       "R1 P1 30    80.0\n",
       "R2 P2 43    69.6\n",
       "R3 P3 49   137.0\n",
       "R4 P4 53    96.5"
      ]
     },
     "metadata": {},
     "output_type": "display_data"
    }
   ],
   "source": [
    "CopiaPacientes2[,-c(2,5)]"
   ]
  },
  {
   "cell_type": "markdown",
   "id": "ahead-southwest",
   "metadata": {},
   "source": [
    "Para eliminar filas se pueden usar las siguientes instrucciones."
   ]
  },
  {
   "cell_type": "code",
   "execution_count": 86,
   "id": "earned-plumbing",
   "metadata": {},
   "outputs": [],
   "source": [
    "#Primero creamos un vector donde indicaremos que filas queremos conservar. (TRUE conservar, FALSE eliminar)\n",
    "ConservarFilas<-c(T,T,F,T)"
   ]
  },
  {
   "cell_type": "code",
   "execution_count": 87,
   "id": "norman-locking",
   "metadata": {
    "scrolled": true
   },
   "outputs": [
    {
     "data": {
      "text/html": [
       "<table>\n",
       "<thead><tr><th></th><th scope=col>ID</th><th scope=col>Fecha</th><th scope=col>Edad</th><th scope=col>Peso</th><th scope=col>Altura</th></tr></thead>\n",
       "<tbody>\n",
       "\t<tr><th scope=row>R1</th><td>P1        </td><td>2020-12-11</td><td>30        </td><td>80.0      </td><td>1.48      </td></tr>\n",
       "\t<tr><th scope=row>R2</th><td>P2        </td><td>2020-11-11</td><td>43        </td><td>69.6      </td><td>1.56      </td></tr>\n",
       "\t<tr><th scope=row>R4</th><td>P4        </td><td>2020-11-01</td><td>53        </td><td>96.5      </td><td>1.52      </td></tr>\n",
       "</tbody>\n",
       "</table>\n"
      ],
      "text/latex": [
       "\\begin{tabular}{r|lllll}\n",
       "  & ID & Fecha & Edad & Peso & Altura\\\\\n",
       "\\hline\n",
       "\tR1 & P1         & 2020-12-11 & 30         & 80.0       & 1.48      \\\\\n",
       "\tR2 & P2         & 2020-11-11 & 43         & 69.6       & 1.56      \\\\\n",
       "\tR4 & P4         & 2020-11-01 & 53         & 96.5       & 1.52      \\\\\n",
       "\\end{tabular}\n"
      ],
      "text/markdown": [
       "\n",
       "| <!--/--> | ID | Fecha | Edad | Peso | Altura |\n",
       "|---|---|---|---|---|---|\n",
       "| R1 | P1         | 2020-12-11 | 30         | 80.0       | 1.48       |\n",
       "| R2 | P2         | 2020-11-11 | 43         | 69.6       | 1.56       |\n",
       "| R4 | P4         | 2020-11-01 | 53         | 96.5       | 1.52       |\n",
       "\n"
      ],
      "text/plain": [
       "   ID Fecha      Edad Peso Altura\n",
       "R1 P1 2020-12-11 30   80.0 1.48  \n",
       "R2 P2 2020-11-11 43   69.6 1.56  \n",
       "R4 P4 2020-11-01 53   96.5 1.52  "
      ]
     },
     "metadata": {},
     "output_type": "display_data"
    }
   ],
   "source": [
    "ElimFilasPacientes1 <- Pacientes1[ConservarFilas,]\n",
    "ElimFilasPacientes1"
   ]
  },
  {
   "cell_type": "code",
   "execution_count": 88,
   "id": "crucial-retirement",
   "metadata": {},
   "outputs": [
    {
     "data": {
      "text/html": [
       "<table>\n",
       "<thead><tr><th></th><th scope=col>ID</th><th scope=col>Fecha</th><th scope=col>Edad</th><th scope=col>Peso</th><th scope=col>Altura</th></tr></thead>\n",
       "<tbody>\n",
       "\t<tr><th scope=row>R2</th><td>P2        </td><td>2020-11-11</td><td>43        </td><td> 69.6     </td><td>1.56      </td></tr>\n",
       "\t<tr><th scope=row>R3</th><td>P3        </td><td>2020-12-01</td><td>49        </td><td>137.0     </td><td>1.77      </td></tr>\n",
       "</tbody>\n",
       "</table>\n"
      ],
      "text/latex": [
       "\\begin{tabular}{r|lllll}\n",
       "  & ID & Fecha & Edad & Peso & Altura\\\\\n",
       "\\hline\n",
       "\tR2 & P2         & 2020-11-11 & 43         &  69.6      & 1.56      \\\\\n",
       "\tR3 & P3         & 2020-12-01 & 49         & 137.0      & 1.77      \\\\\n",
       "\\end{tabular}\n"
      ],
      "text/markdown": [
       "\n",
       "| <!--/--> | ID | Fecha | Edad | Peso | Altura |\n",
       "|---|---|---|---|---|---|\n",
       "| R2 | P2         | 2020-11-11 | 43         |  69.6      | 1.56       |\n",
       "| R3 | P3         | 2020-12-01 | 49         | 137.0      | 1.77       |\n",
       "\n"
      ],
      "text/plain": [
       "   ID Fecha      Edad Peso  Altura\n",
       "R2 P2 2020-11-11 43    69.6 1.56  \n",
       "R3 P3 2020-12-01 49   137.0 1.77  "
      ]
     },
     "metadata": {},
     "output_type": "display_data"
    }
   ],
   "source": [
    "#Otra forma es\n",
    "ElimFilasPacientes2 <- Pacientes1[-c(1,4),]\n",
    "ElimFilasPacientes2"
   ]
  },
  {
   "cell_type": "markdown",
   "id": "painted-present",
   "metadata": {},
   "source": [
    "Tambien podemos eliminar filas que no cumplan alguna condición."
   ]
  },
  {
   "cell_type": "code",
   "execution_count": 89,
   "id": "official-administration",
   "metadata": {},
   "outputs": [
    {
     "data": {
      "text/html": [
       "<table>\n",
       "<thead><tr><th></th><th scope=col>ID</th><th scope=col>Fecha</th><th scope=col>Edad</th><th scope=col>Peso</th><th scope=col>Altura</th></tr></thead>\n",
       "<tbody>\n",
       "\t<tr><th scope=row>R2</th><td>P2        </td><td>2020-11-11</td><td>43        </td><td> 69.6     </td><td>1.56      </td></tr>\n",
       "\t<tr><th scope=row>R3</th><td>P3        </td><td>2020-12-01</td><td>49        </td><td>137.0     </td><td>1.77      </td></tr>\n",
       "\t<tr><th scope=row>R4</th><td>P4        </td><td>2020-11-01</td><td>53        </td><td> 96.5     </td><td>1.52      </td></tr>\n",
       "</tbody>\n",
       "</table>\n"
      ],
      "text/latex": [
       "\\begin{tabular}{r|lllll}\n",
       "  & ID & Fecha & Edad & Peso & Altura\\\\\n",
       "\\hline\n",
       "\tR2 & P2         & 2020-11-11 & 43         &  69.6      & 1.56      \\\\\n",
       "\tR3 & P3         & 2020-12-01 & 49         & 137.0      & 1.77      \\\\\n",
       "\tR4 & P4         & 2020-11-01 & 53         &  96.5      & 1.52      \\\\\n",
       "\\end{tabular}\n"
      ],
      "text/markdown": [
       "\n",
       "| <!--/--> | ID | Fecha | Edad | Peso | Altura |\n",
       "|---|---|---|---|---|---|\n",
       "| R2 | P2         | 2020-11-11 | 43         |  69.6      | 1.56       |\n",
       "| R3 | P3         | 2020-12-01 | 49         | 137.0      | 1.77       |\n",
       "| R4 | P4         | 2020-11-01 | 53         |  96.5      | 1.52       |\n",
       "\n"
      ],
      "text/plain": [
       "   ID Fecha      Edad Peso  Altura\n",
       "R2 P2 2020-11-11 43    69.6 1.56  \n",
       "R3 P3 2020-12-01 49   137.0 1.77  \n",
       "R4 P4 2020-11-01 53    96.5 1.52  "
      ]
     },
     "metadata": {},
     "output_type": "display_data"
    }
   ],
   "source": [
    "#Por ejemplo queremos a las personas que tienen más de 30 años\n",
    "PacientesMas30 <- Pacientes1[Pacientes1$Edad > 30,]\n",
    "PacientesMas30"
   ]
  },
  {
   "cell_type": "markdown",
   "id": "painted-shoot",
   "metadata": {},
   "source": [
    "Por ultimo para \"eliminar\" un valor especifico le asignamos el valor ``NA``."
   ]
  },
  {
   "cell_type": "code",
   "execution_count": 90,
   "id": "trained-piano",
   "metadata": {},
   "outputs": [
    {
     "data": {
      "text/html": [
       "<table>\n",
       "<thead><tr><th></th><th scope=col>ID</th><th scope=col>Fecha</th><th scope=col>Edad</th><th scope=col>Peso</th><th scope=col>Altura</th></tr></thead>\n",
       "<tbody>\n",
       "\t<tr><th scope=row>R1</th><td>P1        </td><td>2020-12-11</td><td>30        </td><td> 80.0     </td><td>1.48      </td></tr>\n",
       "\t<tr><th scope=row>R2</th><td>P2        </td><td>2020-11-11</td><td>43        </td><td>   NA     </td><td>1.56      </td></tr>\n",
       "\t<tr><th scope=row>R3</th><td>P3        </td><td>2020-12-01</td><td>49        </td><td>137.0     </td><td>1.77      </td></tr>\n",
       "\t<tr><th scope=row>R4</th><td>P4        </td><td>2020-11-01</td><td>53        </td><td> 96.5     </td><td>1.52      </td></tr>\n",
       "</tbody>\n",
       "</table>\n"
      ],
      "text/latex": [
       "\\begin{tabular}{r|lllll}\n",
       "  & ID & Fecha & Edad & Peso & Altura\\\\\n",
       "\\hline\n",
       "\tR1 & P1         & 2020-12-11 & 30         &  80.0      & 1.48      \\\\\n",
       "\tR2 & P2         & 2020-11-11 & 43         &    NA      & 1.56      \\\\\n",
       "\tR3 & P3         & 2020-12-01 & 49         & 137.0      & 1.77      \\\\\n",
       "\tR4 & P4         & 2020-11-01 & 53         &  96.5      & 1.52      \\\\\n",
       "\\end{tabular}\n"
      ],
      "text/markdown": [
       "\n",
       "| <!--/--> | ID | Fecha | Edad | Peso | Altura |\n",
       "|---|---|---|---|---|---|\n",
       "| R1 | P1         | 2020-12-11 | 30         |  80.0      | 1.48       |\n",
       "| R2 | P2         | 2020-11-11 | 43         |    NA      | 1.56       |\n",
       "| R3 | P3         | 2020-12-01 | 49         | 137.0      | 1.77       |\n",
       "| R4 | P4         | 2020-11-01 | 53         |  96.5      | 1.52       |\n",
       "\n"
      ],
      "text/plain": [
       "   ID Fecha      Edad Peso  Altura\n",
       "R1 P1 2020-12-11 30    80.0 1.48  \n",
       "R2 P2 2020-11-11 43      NA 1.56  \n",
       "R3 P3 2020-12-01 49   137.0 1.77  \n",
       "R4 P4 2020-11-01 53    96.5 1.52  "
      ]
     },
     "metadata": {},
     "output_type": "display_data"
    }
   ],
   "source": [
    "Pacientes1[2,4]<- NA\n",
    "Pacientes1"
   ]
  },
  {
   "cell_type": "markdown",
   "id": "advised-finish",
   "metadata": {},
   "source": [
    "Esta función igual nos sirve para modificar un dato del dataframe"
   ]
  },
  {
   "cell_type": "code",
   "execution_count": 91,
   "id": "photographic-prerequisite",
   "metadata": {},
   "outputs": [
    {
     "data": {
      "text/html": [
       "<table>\n",
       "<thead><tr><th></th><th scope=col>ID</th><th scope=col>Fecha</th><th scope=col>Edad</th><th scope=col>Peso</th><th scope=col>Altura</th></tr></thead>\n",
       "<tbody>\n",
       "\t<tr><th scope=row>R1</th><td>P1        </td><td>2020-12-11</td><td>30        </td><td> 80.0     </td><td>1.48      </td></tr>\n",
       "\t<tr><th scope=row>R2</th><td>P2        </td><td>2020-11-11</td><td>43        </td><td> 69.8     </td><td>1.56      </td></tr>\n",
       "\t<tr><th scope=row>R3</th><td>P3        </td><td>2020-12-01</td><td>49        </td><td>137.0     </td><td>1.77      </td></tr>\n",
       "\t<tr><th scope=row>R4</th><td>P4        </td><td>2020-11-01</td><td>53        </td><td> 96.5     </td><td>1.52      </td></tr>\n",
       "</tbody>\n",
       "</table>\n"
      ],
      "text/latex": [
       "\\begin{tabular}{r|lllll}\n",
       "  & ID & Fecha & Edad & Peso & Altura\\\\\n",
       "\\hline\n",
       "\tR1 & P1         & 2020-12-11 & 30         &  80.0      & 1.48      \\\\\n",
       "\tR2 & P2         & 2020-11-11 & 43         &  69.8      & 1.56      \\\\\n",
       "\tR3 & P3         & 2020-12-01 & 49         & 137.0      & 1.77      \\\\\n",
       "\tR4 & P4         & 2020-11-01 & 53         &  96.5      & 1.52      \\\\\n",
       "\\end{tabular}\n"
      ],
      "text/markdown": [
       "\n",
       "| <!--/--> | ID | Fecha | Edad | Peso | Altura |\n",
       "|---|---|---|---|---|---|\n",
       "| R1 | P1         | 2020-12-11 | 30         |  80.0      | 1.48       |\n",
       "| R2 | P2         | 2020-11-11 | 43         |  69.8      | 1.56       |\n",
       "| R3 | P3         | 2020-12-01 | 49         | 137.0      | 1.77       |\n",
       "| R4 | P4         | 2020-11-01 | 53         |  96.5      | 1.52       |\n",
       "\n"
      ],
      "text/plain": [
       "   ID Fecha      Edad Peso  Altura\n",
       "R1 P1 2020-12-11 30    80.0 1.48  \n",
       "R2 P2 2020-11-11 43    69.8 1.56  \n",
       "R3 P3 2020-12-01 49   137.0 1.77  \n",
       "R4 P4 2020-11-01 53    96.5 1.52  "
      ]
     },
     "metadata": {},
     "output_type": "display_data"
    }
   ],
   "source": [
    "Pacientes1[2,4] <- 69.8\n",
    "Pacientes1"
   ]
  },
  {
   "cell_type": "code",
   "execution_count": 92,
   "id": "boring-tolerance",
   "metadata": {},
   "outputs": [
    {
     "data": {
      "text/html": [
       "<table>\n",
       "<thead><tr><th></th><th scope=col>ID</th><th scope=col>Fecha</th><th scope=col>Edad</th><th scope=col>Peso</th><th scope=col>Altura</th></tr></thead>\n",
       "<tbody>\n",
       "\t<tr><th scope=row>R2</th><td>P2        </td><td>2020-11-11</td><td>43        </td><td> 69.8     </td><td>1.56      </td></tr>\n",
       "\t<tr><th scope=row>R1</th><td>P1        </td><td>2020-12-11</td><td>30        </td><td> 80.0     </td><td>1.48      </td></tr>\n",
       "\t<tr><th scope=row>R4</th><td>P4        </td><td>2020-11-01</td><td>53        </td><td> 96.5     </td><td>1.52      </td></tr>\n",
       "\t<tr><th scope=row>R3</th><td>P3        </td><td>2020-12-01</td><td>49        </td><td>137.0     </td><td>1.77      </td></tr>\n",
       "</tbody>\n",
       "</table>\n"
      ],
      "text/latex": [
       "\\begin{tabular}{r|lllll}\n",
       "  & ID & Fecha & Edad & Peso & Altura\\\\\n",
       "\\hline\n",
       "\tR2 & P2         & 2020-11-11 & 43         &  69.8      & 1.56      \\\\\n",
       "\tR1 & P1         & 2020-12-11 & 30         &  80.0      & 1.48      \\\\\n",
       "\tR4 & P4         & 2020-11-01 & 53         &  96.5      & 1.52      \\\\\n",
       "\tR3 & P3         & 2020-12-01 & 49         & 137.0      & 1.77      \\\\\n",
       "\\end{tabular}\n"
      ],
      "text/markdown": [
       "\n",
       "| <!--/--> | ID | Fecha | Edad | Peso | Altura |\n",
       "|---|---|---|---|---|---|\n",
       "| R2 | P2         | 2020-11-11 | 43         |  69.8      | 1.56       |\n",
       "| R1 | P1         | 2020-12-11 | 30         |  80.0      | 1.48       |\n",
       "| R4 | P4         | 2020-11-01 | 53         |  96.5      | 1.52       |\n",
       "| R3 | P3         | 2020-12-01 | 49         | 137.0      | 1.77       |\n",
       "\n"
      ],
      "text/plain": [
       "   ID Fecha      Edad Peso  Altura\n",
       "R2 P2 2020-11-11 43    69.8 1.56  \n",
       "R1 P1 2020-12-11 30    80.0 1.48  \n",
       "R4 P4 2020-11-01 53    96.5 1.52  \n",
       "R3 P3 2020-12-01 49   137.0 1.77  "
      ]
     },
     "metadata": {},
     "output_type": "display_data"
    }
   ],
   "source": [
    "Pacientes1[order(Pacientes1$Peso), ]"
   ]
  },
  {
   "cell_type": "code",
   "execution_count": 93,
   "id": "owned-ownership",
   "metadata": {},
   "outputs": [],
   "source": [
    "#También podemos indicar si se quiere ordenar de forma descendente o ascendete \n",
    "Pacientes1 <- Pacientes1[order(Pacientes1$Edad, decreasing = TRUE),]"
   ]
  },
  {
   "cell_type": "markdown",
   "id": "banned-netherlands",
   "metadata": {},
   "source": [
    "Este orden no queda guardado en ell data frame a menos que se lo asignemos."
   ]
  },
  {
   "cell_type": "code",
   "execution_count": 94,
   "id": "plastic-provincial",
   "metadata": {},
   "outputs": [
    {
     "data": {
      "text/html": [
       "<table>\n",
       "<thead><tr><th></th><th scope=col>ID</th><th scope=col>Fecha</th><th scope=col>Edad</th><th scope=col>Peso</th><th scope=col>Altura</th></tr></thead>\n",
       "<tbody>\n",
       "\t<tr><th scope=row>R4</th><td>P4        </td><td>2020-11-01</td><td>53        </td><td> 96.5     </td><td>1.52      </td></tr>\n",
       "\t<tr><th scope=row>R3</th><td>P3        </td><td>2020-12-01</td><td>49        </td><td>137.0     </td><td>1.77      </td></tr>\n",
       "\t<tr><th scope=row>R2</th><td>P2        </td><td>2020-11-11</td><td>43        </td><td> 69.8     </td><td>1.56      </td></tr>\n",
       "\t<tr><th scope=row>R1</th><td>P1        </td><td>2020-12-11</td><td>30        </td><td> 80.0     </td><td>1.48      </td></tr>\n",
       "</tbody>\n",
       "</table>\n"
      ],
      "text/latex": [
       "\\begin{tabular}{r|lllll}\n",
       "  & ID & Fecha & Edad & Peso & Altura\\\\\n",
       "\\hline\n",
       "\tR4 & P4         & 2020-11-01 & 53         &  96.5      & 1.52      \\\\\n",
       "\tR3 & P3         & 2020-12-01 & 49         & 137.0      & 1.77      \\\\\n",
       "\tR2 & P2         & 2020-11-11 & 43         &  69.8      & 1.56      \\\\\n",
       "\tR1 & P1         & 2020-12-11 & 30         &  80.0      & 1.48      \\\\\n",
       "\\end{tabular}\n"
      ],
      "text/markdown": [
       "\n",
       "| <!--/--> | ID | Fecha | Edad | Peso | Altura |\n",
       "|---|---|---|---|---|---|\n",
       "| R4 | P4         | 2020-11-01 | 53         |  96.5      | 1.52       |\n",
       "| R3 | P3         | 2020-12-01 | 49         | 137.0      | 1.77       |\n",
       "| R2 | P2         | 2020-11-11 | 43         |  69.8      | 1.56       |\n",
       "| R1 | P1         | 2020-12-11 | 30         |  80.0      | 1.48       |\n",
       "\n"
      ],
      "text/plain": [
       "   ID Fecha      Edad Peso  Altura\n",
       "R4 P4 2020-11-01 53    96.5 1.52  \n",
       "R3 P3 2020-12-01 49   137.0 1.77  \n",
       "R2 P2 2020-11-11 43    69.8 1.56  \n",
       "R1 P1 2020-12-11 30    80.0 1.48  "
      ]
     },
     "metadata": {},
     "output_type": "display_data"
    }
   ],
   "source": [
    "Pacientes1"
   ]
  },
  {
   "cell_type": "code",
   "execution_count": null,
   "id": "fuzzy-sender",
   "metadata": {},
   "outputs": [],
   "source": []
  }
 ],
 "metadata": {
  "kernelspec": {
   "display_name": "R",
   "language": "R",
   "name": "ir"
  },
  "language_info": {
   "codemirror_mode": "r",
   "file_extension": ".r",
   "mimetype": "text/x-r-source",
   "name": "R",
   "pygments_lexer": "r",
   "version": "3.6.1"
  }
 },
 "nbformat": 4,
 "nbformat_minor": 5
}
