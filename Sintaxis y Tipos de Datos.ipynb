{
 "cells": [
  {
   "cell_type": "markdown",
   "id": "removable-summary",
   "metadata": {},
   "source": [
    "# Sintaxis y Tipo de Datos"
   ]
  },
  {
   "cell_type": "markdown",
   "id": "velvet-disabled",
   "metadata": {},
   "source": [
    "## Sintaxis\n",
    "El código de R se forma a través de $expresiones$ por ejemplo expresiones aritmeticas, instrucciones de control e instrucciones de asignación.\n",
    "\n",
    "Nota: Es importante comentar nuestro código para futuras consultas saber que es lo que estamos haciendo, se usa el signo **\"#\"** para poner comentarios (estos no se ejecutaran)."
   ]
  },
  {
   "cell_type": "code",
   "execution_count": 5,
   "id": "meaningful-principle",
   "metadata": {},
   "outputs": [
    {
     "data": {
      "text/html": [
       "25"
      ],
      "text/latex": [
       "25"
      ],
      "text/markdown": [
       "25"
      ],
      "text/plain": [
       "[1] 25"
      ]
     },
     "metadata": {},
     "output_type": "display_data"
    }
   ],
   "source": [
    "#Expresión aritmética\n",
    "\n",
    "5^2"
   ]
  },
  {
   "cell_type": "code",
   "execution_count": 6,
   "id": "controversial-substitute",
   "metadata": {},
   "outputs": [
    {
     "data": {
      "text/html": [
       "'Falso'"
      ],
      "text/latex": [
       "'Falso'"
      ],
      "text/markdown": [
       "'Falso'"
      ],
      "text/plain": [
       "[1] \"Falso\""
      ]
     },
     "metadata": {},
     "output_type": "display_data"
    }
   ],
   "source": [
    "#Instrucción condicional\n",
    "\n",
    "if(1 == 0) \"Verdadero\" else \"Falso\""
   ]
  },
  {
   "cell_type": "code",
   "execution_count": 7,
   "id": "adequate-reminder",
   "metadata": {},
   "outputs": [],
   "source": [
    "#Instrucción asignación\n",
    "\n",
    "x <- 4"
   ]
  },
  {
   "cell_type": "markdown",
   "id": "genetic-habitat",
   "metadata": {},
   "source": [
    "### Instrucciones de Asignación\n",
    "\n",
    "Se pueden crear nuevos objetos con el operador de asignación **<-**. También se puede usar el signo **=** pero es más fácil reconocer **<-** y es el mas usado en los codigos de R. "
   ]
  },
  {
   "cell_type": "code",
   "execution_count": null,
   "id": "collect-climb",
   "metadata": {},
   "outputs": [],
   "source": [
    "NombreDelObjeto <- valor del objeto"
   ]
  },
  {
   "cell_type": "code",
   "execution_count": 8,
   "id": "perfect-melbourne",
   "metadata": {},
   "outputs": [],
   "source": [
    "x <- 5"
   ]
  },
  {
   "cell_type": "code",
   "execution_count": 9,
   "id": "general-indian",
   "metadata": {},
   "outputs": [],
   "source": [
    "x1 <- \"Hola\""
   ]
  },
  {
   "cell_type": "markdown",
   "id": "large-impression",
   "metadata": {},
   "source": [
    "Al correr las instrucciones de asignación anteriores no nos muestra nada, ya que solo se guarda el objeto. Para ver lo que esta en ese objeto se pone su nombre."
   ]
  },
  {
   "cell_type": "code",
   "execution_count": 10,
   "id": "greater-clear",
   "metadata": {},
   "outputs": [
    {
     "data": {
      "text/html": [
       "5"
      ],
      "text/latex": [
       "5"
      ],
      "text/markdown": [
       "5"
      ],
      "text/plain": [
       "[1] 5"
      ]
     },
     "metadata": {},
     "output_type": "display_data"
    }
   ],
   "source": [
    "x"
   ]
  },
  {
   "cell_type": "code",
   "execution_count": 11,
   "id": "equivalent-motel",
   "metadata": {},
   "outputs": [
    {
     "data": {
      "text/html": [
       "'Hola'"
      ],
      "text/latex": [
       "'Hola'"
      ],
      "text/markdown": [
       "'Hola'"
      ],
      "text/plain": [
       "[1] \"Hola\""
      ]
     },
     "metadata": {},
     "output_type": "display_data"
    }
   ],
   "source": [
    "x1"
   ]
  },
  {
   "cell_type": "markdown",
   "id": "stopped-priest",
   "metadata": {},
   "source": [
    "Podemos ejecutar varias expresiones separandolas con **;**"
   ]
  },
  {
   "cell_type": "code",
   "execution_count": 12,
   "id": "virtual-diana",
   "metadata": {},
   "outputs": [],
   "source": [
    "y<-5; y1<-4"
   ]
  },
  {
   "cell_type": "code",
   "execution_count": 13,
   "id": "complete-richardson",
   "metadata": {},
   "outputs": [
    {
     "data": {
      "text/html": [
       "5"
      ],
      "text/latex": [
       "5"
      ],
      "text/markdown": [
       "5"
      ],
      "text/plain": [
       "[1] 5"
      ]
     },
     "metadata": {},
     "output_type": "display_data"
    },
    {
     "data": {
      "text/html": [
       "4"
      ],
      "text/latex": [
       "4"
      ],
      "text/markdown": [
       "4"
      ],
      "text/plain": [
       "[1] 4"
      ]
     },
     "metadata": {},
     "output_type": "display_data"
    }
   ],
   "source": [
    "y; y1"
   ]
  },
  {
   "cell_type": "code",
   "execution_count": 14,
   "id": "macro-spiritual",
   "metadata": {},
   "outputs": [
    {
     "data": {
      "text/html": [
       "9"
      ],
      "text/latex": [
       "9"
      ],
      "text/markdown": [
       "9"
      ],
      "text/plain": [
       "[1] 9"
      ]
     },
     "metadata": {},
     "output_type": "display_data"
    },
    {
     "data": {
      "text/html": [
       "1"
      ],
      "text/latex": [
       "1"
      ],
      "text/markdown": [
       "1"
      ],
      "text/plain": [
       "[1] 1"
      ]
     },
     "metadata": {},
     "output_type": "display_data"
    }
   ],
   "source": [
    "y+y1; y-y1"
   ]
  },
  {
   "cell_type": "markdown",
   "id": "optical-organ",
   "metadata": {},
   "source": [
    "Cuando las instrucciones estan en diferente línea no es necesario porner **;**. Lo más común es poner una instrucción en cada linea."
   ]
  },
  {
   "cell_type": "code",
   "execution_count": 15,
   "id": "australian-manhattan",
   "metadata": {},
   "outputs": [
    {
     "data": {
      "text/html": [
       "5"
      ],
      "text/latex": [
       "5"
      ],
      "text/markdown": [
       "5"
      ],
      "text/plain": [
       "[1] 5"
      ]
     },
     "metadata": {},
     "output_type": "display_data"
    },
    {
     "data": {
      "text/html": [
       "'Hola'"
      ],
      "text/latex": [
       "'Hola'"
      ],
      "text/markdown": [
       "'Hola'"
      ],
      "text/plain": [
       "[1] \"Hola\""
      ]
     },
     "metadata": {},
     "output_type": "display_data"
    }
   ],
   "source": [
    "x\n",
    "x1"
   ]
  },
  {
   "cell_type": "markdown",
   "id": "incoming-walker",
   "metadata": {},
   "source": [
    "### Symbols\n",
    "Formalmente se les llama symbols a los nombres de las variables en R. Por lo tanto cuando realizamos una asignación de un objeto al nombre de la variables, estamos en realidad asigando el objeto a un symbol. Por ejemplo:"
   ]
  },
  {
   "cell_type": "code",
   "execution_count": 16,
   "id": "retained-disposal",
   "metadata": {},
   "outputs": [],
   "source": [
    "z <- 4"
   ]
  },
  {
   "cell_type": "markdown",
   "id": "lasting-chamber",
   "metadata": {},
   "source": [
    "Esta instrucción asigna el symbol **\"z\"** al objeto **\"4\"**"
   ]
  },
  {
   "cell_type": "markdown",
   "id": "multiple-diploma",
   "metadata": {},
   "source": [
    "### Nombres de los Objetos\n",
    "Los nombres de los objetos pueden contener letras, números, puntos y guiones bajos, pero no pueden empezar con un número o un punto seguido de un número. Existen palabrar reservadas como ``if`` y ``for`` que no podemos usar. Para más información podemos ejecutar ``?make.name`` para ver con más detalle lo que está y no permitido.\n",
    "\n",
    "En resumen, los nombres de los objetos:\n",
    "* Pueden contener:\n",
    "        - letras\n",
    "        - numeros\n",
    "        - guión bajo\n",
    "        - punto\n",
    "* Deben comenzar con una letra\n",
    "* No podemos utilizar las palabras reservadas.\n",
    "**Importante:** No debemos utilizar acentos y la letra ñ\n",
    "\n",
    "Es importante que nuestros objetos tengan nombres descriptivos, por lo que se necesitará una convención para objetos con múltiples palabras. Existen algunos métodos como el **snake_case** donde se separan las palabras en minusculas con el guión bajo, **CamelCase** donde se usan mayusculas al principio de cada palabra y hay personas que **usan.puntos**. Se puede hacer uso de todos estos métodos pero no es común. A continuación algunos ejemplos: "
   ]
  },
  {
   "cell_type": "code",
   "execution_count": 17,
   "id": "contained-causing",
   "metadata": {},
   "outputs": [],
   "source": [
    "#snake_case\n",
    "peso_mariana<-68\n",
    "altura_mujer2<-1.56"
   ]
  },
  {
   "cell_type": "code",
   "execution_count": 18,
   "id": "consecutive-tanzania",
   "metadata": {},
   "outputs": [],
   "source": [
    "#CamelCase\n",
    "PromedioPesoNiños <- 30\n",
    "SumaManzanas <-15"
   ]
  },
  {
   "cell_type": "code",
   "execution_count": 19,
   "id": "adapted-alignment",
   "metadata": {},
   "outputs": [],
   "source": [
    "#puntos.puntos\n",
    "promedio.hombres.cdmx <-11\n",
    "suma.manzanas.pedro <-5"
   ]
  },
  {
   "cell_type": "code",
   "execution_count": 20,
   "id": "criminal-pilot",
   "metadata": {},
   "outputs": [],
   "source": [
    "#Mezclado\n",
    "M_promedio.manzanasVendidas<-4"
   ]
  },
  {
   "cell_type": "markdown",
   "id": "spoken-attention",
   "metadata": {},
   "source": [
    "## Datos Básicos en R\n",
    "\n",
    "R proporciona cuatro tipos básicos de datos, también conocidos como vectores atómicos.\n",
    "* logical\n",
    "* numeric\n",
    "* integer\n",
    "* character\n",
    "\n",
    "### Logical\n",
    "El tipo *logical* es la forma que tiene R para los datos binarios. Cuando son usados en test lógicos son conocidos como boleanos y toman los valores TRUE y FALSE que pueden ser abreviados con las letras T y F."
   ]
  },
  {
   "cell_type": "code",
   "execution_count": 21,
   "id": "dated-width",
   "metadata": {},
   "outputs": [
    {
     "data": {
      "text/html": [
       "TRUE"
      ],
      "text/latex": [
       "TRUE"
      ],
      "text/markdown": [
       "TRUE"
      ],
      "text/plain": [
       "[1] TRUE"
      ]
     },
     "metadata": {},
     "output_type": "display_data"
    }
   ],
   "source": [
    "1>0"
   ]
  },
  {
   "cell_type": "code",
   "execution_count": 22,
   "id": "worse-swift",
   "metadata": {},
   "outputs": [
    {
     "data": {
      "text/html": [
       "FALSE"
      ],
      "text/latex": [
       "FALSE"
      ],
      "text/markdown": [
       "FALSE"
      ],
      "text/plain": [
       "[1] FALSE"
      ]
     },
     "metadata": {},
     "output_type": "display_data"
    }
   ],
   "source": [
    "1<0"
   ]
  },
  {
   "cell_type": "code",
   "execution_count": 23,
   "id": "uniform-repeat",
   "metadata": {},
   "outputs": [
    {
     "data": {
      "text/html": [
       "'logical'"
      ],
      "text/latex": [
       "'logical'"
      ],
      "text/markdown": [
       "'logical'"
      ],
      "text/plain": [
       "[1] \"logical\""
      ]
     },
     "metadata": {},
     "output_type": "display_data"
    }
   ],
   "source": [
    "#Se puede usar la función class para ver que tipo de dato es\n",
    "\n",
    "class(TRUE)"
   ]
  },
  {
   "cell_type": "markdown",
   "id": "collaborative-calgary",
   "metadata": {},
   "source": [
    "A continuación se muestran los operadores de comparación y lógicos:\n",
    "#### Operadores de comparación\n",
    "\n",
    " Operadores| Descripción\n",
    ":-----:| ------\n",
    "<    | Menor que\n",
    "\\>  | Mayor que\n",
    "== | Igual a\n",
    "<=   | Menor o igual a\n",
    "\\>= | Mayor o igual a\n",
    "!=   | Distinto a\n",
    "%in% | Pertenece a\n"
   ]
  },
  {
   "cell_type": "markdown",
   "id": "robust-rough",
   "metadata": {},
   "source": [
    "#### Operadores lógicos\n",
    "\n",
    " Operadores| Descripción\n",
    ":-----:| ------\n",
    "&  | y(boleano)\n",
    "\\|  | o (bolenao)\n",
    "!| no\n",
    "any  | cualquiera verdadero\n",
    "all | Todos verdaderos\n"
   ]
  },
  {
   "cell_type": "markdown",
   "id": "short-reset",
   "metadata": {},
   "source": [
    "### Numeric\n",
    "\n",
    "El tipo numeric es para representar a los numeros reales. Con ellos podemos realizar toda clase de operaciones por ejemplo sumas, restas, multiplicaciones y funciones matemáticas con las que cuenta R. \n",
    "\n",
    "Algunos ejemplos:"
   ]
  },
  {
   "cell_type": "code",
   "execution_count": 24,
   "id": "indie-naples",
   "metadata": {},
   "outputs": [],
   "source": [
    "AlturaPedro<-1.80\n",
    "PesoPedro<-80"
   ]
  },
  {
   "cell_type": "code",
   "execution_count": 25,
   "id": "engaging-flooring",
   "metadata": {},
   "outputs": [],
   "source": [
    "IMC<- PesoPedro/AlturaPedro^2 "
   ]
  },
  {
   "cell_type": "code",
   "execution_count": 26,
   "id": "rapid-newsletter",
   "metadata": {},
   "outputs": [
    {
     "data": {
      "text/html": [
       "24.6913580246914"
      ],
      "text/latex": [
       "24.6913580246914"
      ],
      "text/markdown": [
       "24.6913580246914"
      ],
      "text/plain": [
       "[1] 24.69136"
      ]
     },
     "metadata": {},
     "output_type": "display_data"
    }
   ],
   "source": [
    "IMC"
   ]
  },
  {
   "cell_type": "code",
   "execution_count": 27,
   "id": "working-crowd",
   "metadata": {},
   "outputs": [],
   "source": [
    "CalificacionPedro <- 8.35"
   ]
  },
  {
   "cell_type": "code",
   "execution_count": 28,
   "id": "polyphonic-relations",
   "metadata": {},
   "outputs": [
    {
     "data": {
      "text/html": [
       "8"
      ],
      "text/latex": [
       "8"
      ],
      "text/markdown": [
       "8"
      ],
      "text/plain": [
       "[1] 8"
      ]
     },
     "metadata": {},
     "output_type": "display_data"
    }
   ],
   "source": [
    "round(CalificacionPedro)"
   ]
  },
  {
   "cell_type": "markdown",
   "id": "every-mandate",
   "metadata": {},
   "source": [
    "### Integer\n",
    "Es un tipo especial de numeric. Es el modo de representrar los números enteros en R. Para especificar que un número es entero, debemos añadir la letra **L** en mayúscula como sufijo."
   ]
  },
  {
   "cell_type": "code",
   "execution_count": 29,
   "id": "patent-allah",
   "metadata": {},
   "outputs": [
    {
     "data": {
      "text/html": [
       "3"
      ],
      "text/latex": [
       "3"
      ],
      "text/markdown": [
       "3"
      ],
      "text/plain": [
       "[1] 3"
      ]
     },
     "metadata": {},
     "output_type": "display_data"
    }
   ],
   "source": [
    "NumHijosPedro <- 3L\n",
    "NumHijosPedro"
   ]
  },
  {
   "cell_type": "markdown",
   "id": "nasty-serve",
   "metadata": {},
   "source": [
    "Podemos notar que no hay diferencia en como se muestra el número, pero la función ``class()`` puede comprobar la diferencia."
   ]
  },
  {
   "cell_type": "code",
   "execution_count": 30,
   "id": "swedish-manchester",
   "metadata": {},
   "outputs": [
    {
     "data": {
      "text/html": [
       "'integer'"
      ],
      "text/latex": [
       "'integer'"
      ],
      "text/markdown": [
       "'integer'"
      ],
      "text/plain": [
       "[1] \"integer\""
      ]
     },
     "metadata": {},
     "output_type": "display_data"
    }
   ],
   "source": [
    "class(NumHijosPedro)"
   ]
  },
  {
   "cell_type": "code",
   "execution_count": 31,
   "id": "frank-granny",
   "metadata": {},
   "outputs": [
    {
     "data": {
      "text/html": [
       "'numeric'"
      ],
      "text/latex": [
       "'numeric'"
      ],
      "text/markdown": [
       "'numeric'"
      ],
      "text/plain": [
       "[1] \"numeric\""
      ]
     },
     "metadata": {},
     "output_type": "display_data"
    }
   ],
   "source": [
    "class(PesoPedro)"
   ]
  },
  {
   "cell_type": "markdown",
   "id": "needed-thriller",
   "metadata": {},
   "source": [
    "### Character\n",
    "\n",
    "Es cualquier dato alfanumérico o cadenas (todo aquello que no sea número es una cadena). Ejemplos:"
   ]
  },
  {
   "cell_type": "code",
   "execution_count": 32,
   "id": "successful-heavy",
   "metadata": {},
   "outputs": [
    {
     "data": {
      "text/html": [
       "'Hola'"
      ],
      "text/latex": [
       "'Hola'"
      ],
      "text/markdown": [
       "'Hola'"
      ],
      "text/plain": [
       "[1] \"Hola\""
      ]
     },
     "metadata": {},
     "output_type": "display_data"
    }
   ],
   "source": [
    "\"Hola\""
   ]
  },
  {
   "cell_type": "code",
   "execution_count": 33,
   "id": "knowing-plenty",
   "metadata": {},
   "outputs": [
    {
     "data": {
      "text/html": [
       "'P123'"
      ],
      "text/latex": [
       "'P123'"
      ],
      "text/markdown": [
       "'P123'"
      ],
      "text/plain": [
       "[1] \"P123\""
      ]
     },
     "metadata": {},
     "output_type": "display_data"
    }
   ],
   "source": [
    "IdPedro <- \"P123\"\n",
    "IdPedro"
   ]
  },
  {
   "cell_type": "code",
   "execution_count": 34,
   "id": "charming-bristol",
   "metadata": {},
   "outputs": [
    {
     "data": {
      "text/html": [
       "'character'"
      ],
      "text/latex": [
       "'character'"
      ],
      "text/markdown": [
       "'character'"
      ],
      "text/plain": [
       "[1] \"character\""
      ]
     },
     "metadata": {},
     "output_type": "display_data"
    }
   ],
   "source": [
    "class(IdPedro)"
   ]
  },
  {
   "cell_type": "markdown",
   "id": "respected-acoustic",
   "metadata": {},
   "source": [
    "### Otros\n",
    "\n",
    "Existen otros tipos de datos en R, como el *double* (doble precisión), *complex* (números complejos) y *raw* (almacenar bytes)."
   ]
  },
  {
   "cell_type": "code",
   "execution_count": null,
   "id": "convinced-model",
   "metadata": {},
   "outputs": [],
   "source": []
  }
 ],
 "metadata": {
  "kernelspec": {
   "display_name": "R",
   "language": "R",
   "name": "ir"
  },
  "language_info": {
   "codemirror_mode": "r",
   "file_extension": ".r",
   "mimetype": "text/x-r-source",
   "name": "R",
   "pygments_lexer": "r",
   "version": "3.6.1"
  }
 },
 "nbformat": 4,
 "nbformat_minor": 5
}
